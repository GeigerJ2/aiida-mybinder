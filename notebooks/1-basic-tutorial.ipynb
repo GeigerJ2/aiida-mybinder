{
 "cells": [
  {
   "cell_type": "markdown",
   "id": "a9a1cc6f",
   "metadata": {},
   "source": [
    "% For reference:\n",
    "% The [tutorial guidelines](https://github.com/aiidateam/aiida-core/wiki/Writing-documentation#tutorial).\n",
    "% See [issue #3981](https://github.com/aiidateam/aiida-core/issues/3981).\n",
    "\n",
    "(tutorial)=\n",
    "(tutorial:basic)=\n",
    "# Basic tutorial\n",
    "\n",
    "The goal of this tutorial is to give you an idea of how AiiDA helps you in executing data-driven workflows.\n",
    "At the end of this tutorial, you will know how to:\n",
    "\n",
    "- Store data in the database and subsequently retrieve it.\n",
    "- Decorate a Python function such that its inputs and outputs are automatically tracked.\n",
    "- Run and monitor the status of processes.\n",
    "- Explore and visualize the provenance graph.\n",
    "\n",
    ":::{important}\n",
    "If you are working on your own machine, note that the tutorial assumes that you have a working AiiDA installation and have set up your AiiDA profile in the current Python environment.\n",
    "If this is not the case, consult the {ref}`getting started page<intro:get_started>`.\n",
    ":::\n",
    "\n",
    ":::{tip}\n",
    "This tutorial can be downloaded and run as a Jupyter Notebook: {nb-download}`basic.ipynb` {octicon}`download`\n",
    ":::"
   ]
  },
  {
   "cell_type": "code",
   "execution_count": 1,
   "id": "1121744c",
   "metadata": {
    "tags": [
     "hide-cell"
    ]
   },
   "outputs": [
    {
     "data": {
      "text/plain": [
       "Profile<uuid='13964614b4154ec998daddb8a9ae137a' name='myprofile'>"
      ]
     },
     "execution_count": 1,
     "metadata": {},
     "output_type": "execute_result"
    }
   ],
   "source": [
    "from aiida import load_profile, engine, orm, plugins\n",
    "from aiida.manage.configuration import get_config\n",
    "from aiida.storage.sqlite_temp import SqliteTempBackend\n",
    "\n",
    "%load_ext aiida\n",
    "\n",
    "profile = load_profile(\n",
    "    SqliteTempBackend.create_profile(\n",
    "        'myprofile',\n",
    "        options={\n",
    "            'warnings.development_version': False,\n",
    "            'runner.poll.interval': 1\n",
    "        },\n",
    "        debug=False\n",
    "    ),\n",
    "    allow_switch=True\n",
    ")\n",
    "config = get_config()\n",
    "config.add_profile(profile)\n",
    "config.set_default_profile(profile.name)\n",
    "profile"
   ]
  },
  {
   "cell_type": "markdown",
   "id": "794be999",
   "metadata": {},
   "source": [
    "## Provenance\n",
    "\n",
    "Before we dive in, we need to briefly introduce one of the most important concepts for AiiDA: *provenance*.\n",
    "An AiiDA database does not only contain the results of your calculations, but also their inputs and each step that was executed to obtain them.\n",
    "All of this information is stored in the form of a *directed acyclic graph* (DAG).\n",
    "As an example, {numref}`fig_intro_workchain_graph` shows the provenance of the calculations of this tutorial.\n",
    "\n",
    "(fig_intro_workchain_graph)=\n",
    "\n",
    ":::{figure} include/workchain_graph.png\n",
    ":align: center\n",
    ":scale: 30\n",
    "\n",
    "Provenance Graph of a basic AiiDA WorkChain.\n",
    ":::\n",
    "\n",
    "In the provenance graph, you can see different types of *nodes* represented by different shapes.\n",
    "The green ellipses are `Data` nodes, the blue ellipse is a `Code` node, and the rectangles represent *processes*, i.e. the calculations performed in your *workflow*.\n",
    "\n",
    "The provenance graph allows us to not only see what data we have, but also how it was produced.\n",
    "During this tutorial, we will be using AiiDA to generate the provenance graph in {numref}`fig_intro_workchain_graph` step by step.\n",
    "\n",
    "## Data nodes\n",
    "\n",
    "Before running any calculations, let's create and store a *data node*.\n",
    "AiiDA ships with an interactive IPython shell that has many basic AiiDA classes pre-loaded.\n",
    "To start the IPython shell, simply type in the terminal:\n",
    "\n",
    "```console\n",
    "$ verdi shell\n",
    "```\n",
    "\n",
    "AiiDA implements data node types for the most common types of data (int, float, str, etc.), which you can extend with your own (composite) data node types if needed.\n",
    "For this tutorial, we'll keep it very simple, and start by initializing an `Int` node and assigning it to the `node` variable:"
   ]
  },
  {
   "cell_type": "code",
   "execution_count": 2,
   "id": "d65008f9",
   "metadata": {},
   "outputs": [],
   "source": [
    "from aiida import orm\n",
    "\n",
    "node = orm.Int(2)"
   ]
  },
  {
   "cell_type": "markdown",
   "id": "555d043e",
   "metadata": {},
   "source": [
    "We can check the contents of the `node` variable like this:"
   ]
  },
  {
   "cell_type": "code",
   "execution_count": 3,
   "id": "b4e1ec1e",
   "metadata": {},
   "outputs": [
    {
     "data": {
      "text/plain": [
       "<Int: uuid: 055290fd-504e-44e8-be04-3e4a32d20f23 (unstored) value: 2>"
      ]
     },
     "execution_count": 3,
     "metadata": {},
     "output_type": "execute_result"
    }
   ],
   "source": [
    "node"
   ]
  },
  {
   "cell_type": "markdown",
   "id": "0376da6b",
   "metadata": {},
   "source": [
    "Quite a bit of information on our freshly created node is returned:\n",
    "\n",
    "- The data node is of the type `Int`\n",
    "- The node has the *universally unique identifier* (**UUID**) `eac48d2b-ae20-438b-aeab-2d02b69eb6a8`\n",
    "- The node is currently not stored in the database `(unstored)`\n",
    "- The integer value of the node is `2`\n",
    "\n",
    "Let's store the node in the database:"
   ]
  },
  {
   "cell_type": "code",
   "execution_count": 4,
   "id": "d39c6bde",
   "metadata": {},
   "outputs": [
    {
     "data": {
      "text/plain": [
       "<Int: uuid: 055290fd-504e-44e8-be04-3e4a32d20f23 (pk: 1) value: 2>"
      ]
     },
     "execution_count": 4,
     "metadata": {},
     "output_type": "execute_result"
    }
   ],
   "source": [
    "node.store()"
   ]
  },
  {
   "cell_type": "markdown",
   "id": "e6f05cf2",
   "metadata": {},
   "source": [
    "As you can see, the data node has now been assigned a *primary key* (**PK**), a number that identifies the node in your database `(pk: 1)`.\n",
    "The PK and UUID both reference the node with the only difference that the PK is unique *for your local database only*, whereas the UUID is a globally unique identifier and can therefore be used between *different* databases.\n",
    "Use the PK only if you are working within a single database, i.e. in an interactive session and the UUID in all other cases.\n",
    "\n",
    ":::{important}\n",
    "The PK numbers shown throughout this tutorial assume that you start from a completely empty database.\n",
    "It is possible that the nodes' PKs will be different for your database!\n",
    "\n",
    "The UUIDs are generated randomly and are, therefore, **guaranteed** to be different.\n",
    ":::\n",
    "\n",
    "Next, let's leave the IPython shell by typing `exit()` and then enter.\n",
    "Back in the terminal, use the `verdi` command line interface (CLI) to check the data node we have just created:"
   ]
  },
  {
   "cell_type": "code",
   "execution_count": 5,
   "id": "ad199ce0",
   "metadata": {},
   "outputs": [
    {
     "name": "stdout",
     "output_type": "stream",
     "text": [
      "\u001b[22mProperty     Value\n",
      "-----------  ------------------------------------\n",
      "type         Int\n",
      "pk           1\n",
      "uuid         055290fd-504e-44e8-be04-3e4a32d20f23\n",
      "label\n",
      "description\n",
      "ctime        2024-05-05 04:12:19.616539+00:00\n",
      "mtime        2024-05-05 04:12:19.675130+00:00\u001b[0m\n"
     ]
    }
   ],
   "source": [
    "%verdi node show 1"
   ]
  },
  {
   "cell_type": "markdown",
   "id": "29a3a31f",
   "metadata": {},
   "source": [
    "Once again, we can see that the node is of type `Int`, has PK = 1, and UUID = `eac48d2b-ae20-438b-aeab-2d02b69eb6a8`.\n",
    "Besides this information, the `verdi node show` command also shows the (empty) `label` and `description`, as well as the time the node was created (`ctime`) and last modified (`mtime`).\n",
    "\n",
    ":::{note}\n",
    "AiiDA already provides many standard data types, but you can also {ref}`create your own<topics:data_types:plugin>`.\n",
    ":::\n",
    "\n",
    "## Calculation functions\n",
    "\n",
    "Once your data is stored in the database, it is ready to be used for some computational task.\n",
    "For example, let's say you want to multiply two `Int` data nodes.\n",
    "The following Python function:\n",
    "\n",
    "```python\n",
    "def multiply(x, y):\n",
    "    return x * y\n",
    "```\n",
    "\n",
    "will give the desired result when applied to two `Int` nodes, but the calculation will not be stored in the provenance graph.\n",
    "However, we can use a [Python decorator](https://docs.python.org/3/glossary.html#term-decorator) provided by AiiDA to automatically make it part of the provenance graph.\n",
    "Start up the AiiDA IPython shell again using `verdi shell` and execute the following code snippet:"
   ]
  },
  {
   "cell_type": "code",
   "execution_count": 6,
   "id": "10abd710",
   "metadata": {},
   "outputs": [],
   "source": [
    "from aiida import engine\n",
    "\n",
    "@engine.calcfunction\n",
    "def multiply(x, y):\n",
    "    return x * y"
   ]
  },
  {
   "cell_type": "markdown",
   "id": "af3bfffb",
   "metadata": {},
   "source": [
    "This converts the `multiply` function into an AiIDA *calculation function*, the most basic execution unit in AiiDA.\n",
    "Next, load the `Int` node you have created in the previous section using the `load_node` function and the PK of the data node:"
   ]
  },
  {
   "cell_type": "code",
   "execution_count": 7,
   "id": "b15c9417",
   "metadata": {},
   "outputs": [],
   "source": [
    "x = orm.load_node(pk=1)"
   ]
  },
  {
   "cell_type": "markdown",
   "id": "a3172daa",
   "metadata": {},
   "source": [
    "Of course, we need another integer to multiply with the first one.\n",
    "Let's create a new `Int` data node and assign it to the variable `y`:"
   ]
  },
  {
   "cell_type": "code",
   "execution_count": 8,
   "id": "9ff26818",
   "metadata": {},
   "outputs": [],
   "source": [
    "y = orm.Int(3)"
   ]
  },
  {
   "cell_type": "markdown",
   "id": "6b4aa1dd",
   "metadata": {},
   "source": [
    "Now it's time to multiply the two numbers!"
   ]
  },
  {
   "cell_type": "code",
   "execution_count": 9,
   "id": "465c8257",
   "metadata": {},
   "outputs": [
    {
     "data": {
      "text/plain": [
       "<Int: uuid: 188fbd41-24eb-470a-8c5f-aaf9ebbaf841 (pk: 4) value: 6>"
      ]
     },
     "execution_count": 9,
     "metadata": {},
     "output_type": "execute_result"
    }
   ],
   "source": [
    "multiply(x, y)"
   ]
  },
  {
   "cell_type": "markdown",
   "id": "9e44b647",
   "metadata": {},
   "source": [
    "Success!\n",
    "The `calcfunction`-decorated `multiply` function has multiplied the two `Int` data nodes and returned a new `Int` data node whose value is the product of the two input nodes.\n",
    "Note that by executing the `multiply` function, all input and output nodes are automatically stored in the database:"
   ]
  },
  {
   "cell_type": "code",
   "execution_count": 10,
   "id": "2ae31f05",
   "metadata": {},
   "outputs": [
    {
     "data": {
      "text/plain": [
       "<Int: uuid: bfaba1a1-c0f6-4173-88e0-a37c0db4d095 (pk: 2) value: 3>"
      ]
     },
     "execution_count": 10,
     "metadata": {},
     "output_type": "execute_result"
    }
   ],
   "source": [
    "y"
   ]
  },
  {
   "cell_type": "markdown",
   "id": "56fdb79c",
   "metadata": {},
   "source": [
    "We had not yet stored the data node assigned to the `y` variable, but by providing it as an input argument to the `multiply` function, it was automatically stored with PK = 2.\n",
    "Similarly, the returned `Int` node with value 6 has been stored with PK = 4.\n",
    "\n",
    "Let's once again leave the IPython shell with `exit()` and look for the process we have just run using the `verdi` CLI:"
   ]
  },
  {
   "cell_type": "code",
   "execution_count": 11,
   "id": "d650b0e1",
   "metadata": {},
   "outputs": [
    {
     "name": "stdout",
     "output_type": "stream",
     "text": [
      "\u001b[22mPK    Created    Process label    ♻    Process State    Process status\n",
      "----  ---------  ---------------  ---  ---------------  ----------------\u001b[0m\n",
      "\u001b[22m\n",
      "Total results: 0\n",
      "\u001b[0m\n",
      "\u001b[34m\u001b[1mReport\u001b[0m: \u001b[22m♻ Processes marked with check-mark were not run but taken from the cache.\u001b[0m\n",
      "\u001b[34m\u001b[1mReport\u001b[0m: \u001b[22mAdd the option `-P pk cached_from` to the command to display cache source.\u001b[0m\n",
      "\u001b[34m\u001b[1mReport\u001b[0m: \u001b[22mLast time an entry changed state: 0s ago (at 04:12:20 on 2024-05-05)\u001b[0m\n",
      "\u001b[93m\u001b[1mWarning\u001b[0m: \u001b[22mThis profile does not have a broker and so it has no daemon.\u001b[0m\n"
     ]
    },
    {
     "name": "stdout",
     "output_type": "stream",
     "text": [
      "\u001b[22m\n",
      "Total results: 0\n",
      "\u001b[0m\n"
     ]
    },
    {
     "name": "stdout",
     "output_type": "stream",
     "text": [
      "\u001b[34m\u001b[1mReport\u001b[0m: \u001b[22m♻ Processes marked with check-mark were not run but taken from the cache.\u001b[0m\n"
     ]
    },
    {
     "name": "stdout",
     "output_type": "stream",
     "text": [
      "\u001b[34m\u001b[1mReport\u001b[0m: \u001b[22mAdd the option `-P pk cached_from` to the command to display cache source.\u001b[0m\n"
     ]
    },
    {
     "name": "stdout",
     "output_type": "stream",
     "text": [
      "\u001b[34m\u001b[1mReport\u001b[0m: \u001b[22mLast time an entry changed state: 0s ago (at 04:12:20 on 2024-05-05)\u001b[0m\n"
     ]
    },
    {
     "name": "stdout",
     "output_type": "stream",
     "text": [
      "\u001b[93m\u001b[1mWarning\u001b[0m: \u001b[22mThis profile does not have a broker and so it has no daemon.\u001b[0m\n"
     ]
    }
   ],
   "source": [
    "%verdi process list"
   ]
  },
  {
   "cell_type": "markdown",
   "id": "cb9480c3",
   "metadata": {},
   "source": [
    "The returned list will be empty, but don't worry!\n",
    "By default, `verdi process list` only returns the *active* processes.\n",
    "If you want to see *all* processes (i.e. also the processes that are *terminated*), simply add the `-a` option:"
   ]
  },
  {
   "cell_type": "code",
   "execution_count": 12,
   "id": "d51a51d6",
   "metadata": {},
   "outputs": [
    {
     "name": "stdout",
     "output_type": "stream",
     "text": [
      "\u001b[22m  PK  Created    Process label    ♻    Process State    Process status\n",
      "----  ---------  ---------------  ---  ---------------  ----------------\n",
      "   3  0s ago     multiply              ⏹ Finished [0]\u001b[0m\n",
      "\u001b[22m\n",
      "Total results: 1\n",
      "\u001b[0m\n",
      "\u001b[34m\u001b[1mReport\u001b[0m: \u001b[22m♻ Processes marked with check-mark were not run but taken from the cache.\u001b[0m\n",
      "\u001b[34m\u001b[1mReport\u001b[0m: \u001b[22mAdd the option `-P pk cached_from` to the command to display cache source.\u001b[0m\n",
      "\u001b[34m\u001b[1mReport\u001b[0m: \u001b[22mLast time an entry changed state: 0s ago (at 04:12:20 on 2024-05-05)\u001b[0m\n",
      "\u001b[93m\u001b[1mWarning\u001b[0m: \u001b[22mThis profile does not have a broker and so it has no daemon.\u001b[0m\n"
     ]
    },
    {
     "name": "stdout",
     "output_type": "stream",
     "text": [
      "\u001b[22m\n",
      "Total results: 1\n",
      "\u001b[0m\n"
     ]
    },
    {
     "name": "stdout",
     "output_type": "stream",
     "text": [
      "\u001b[34m\u001b[1mReport\u001b[0m: \u001b[22m♻ Processes marked with check-mark were not run but taken from the cache.\u001b[0m\n"
     ]
    },
    {
     "name": "stdout",
     "output_type": "stream",
     "text": [
      "\u001b[34m\u001b[1mReport\u001b[0m: \u001b[22mAdd the option `-P pk cached_from` to the command to display cache source.\u001b[0m\n"
     ]
    },
    {
     "name": "stdout",
     "output_type": "stream",
     "text": [
      "\u001b[34m\u001b[1mReport\u001b[0m: \u001b[22mLast time an entry changed state: 0s ago (at 04:12:20 on 2024-05-05)\u001b[0m\n"
     ]
    },
    {
     "name": "stdout",
     "output_type": "stream",
     "text": [
      "\u001b[93m\u001b[1mWarning\u001b[0m: \u001b[22mThis profile does not have a broker and so it has no daemon.\u001b[0m\n"
     ]
    }
   ],
   "source": [
    "%verdi process list -a"
   ]
  },
  {
   "cell_type": "markdown",
   "id": "8b1f5879",
   "metadata": {},
   "source": [
    "We can see that our `multiply` calcfunction was created 1 minute ago, assigned the PK 3, and has `Finished`.\n",
    "\n",
    "As a final step, let's have a look at the provenance of this simple calculation.\n",
    "The provenance graph can be automatically generated using the verdi CLI.\n",
    "Let's generate the provenance graph for the `multiply` calculation function we have just run with PK = 3:\n",
    "\n",
    "```console\n",
    "$ verdi node graph generate 3\n",
    "```\n",
    "\n",
    "The command will write the provenance graph to a `.pdf` file.\n",
    "Use your favorite PDF viewer to have a look.\n",
    "It should look something like the graph shown below."
   ]
  },
  {
   "cell_type": "code",
   "execution_count": 13,
   "id": "b913eac4",
   "metadata": {
    "mystnb": {
     "figure": {
      "caption": "Provenance graph of the `multiply` calculation function.",
      "name": "fig_calcfun_graph"
     },
     "image": {
      "align": "center",
      "width": "300px"
     }
    },
    "tags": [
     "hide-input"
    ]
   },
   "outputs": [
    {
     "data": {
      "image/svg+xml": [
       "<?xml version=\"1.0\" encoding=\"UTF-8\" standalone=\"no\"?>\n",
       "<!DOCTYPE svg PUBLIC \"-//W3C//DTD SVG 1.1//EN\"\n",
       " \"http://www.w3.org/Graphics/SVG/1.1/DTD/svg11.dtd\">\n",
       "<!-- Generated by graphviz version 2.43.0 (0)\n",
       " -->\n",
       "<!-- Title: %3 Pages: 1 -->\n",
       "<svg width=\"265pt\" height=\"300pt\"\n",
       " viewBox=\"0.00 0.00 264.62 300.48\" xmlns=\"http://www.w3.org/2000/svg\" xmlns:xlink=\"http://www.w3.org/1999/xlink\">\n",
       "<g id=\"graph0\" class=\"graph\" transform=\"scale(1 1) rotate(0) translate(4 296.48)\">\n",
       "<title>%3</title>\n",
       "<polygon fill=\"white\" stroke=\"transparent\" points=\"-4,4 -4,-296.48 260.62,-296.48 260.62,4 -4,4\"/>\n",
       "<!-- N1 -->\n",
       "<g id=\"node1\" class=\"node\">\n",
       "<title>N1</title>\n",
       "<ellipse fill=\"#8cd499\" stroke=\"black\" stroke-width=\"0\" cx=\"51.62\" cy=\"-265.61\" rx=\"51.74\" ry=\"26.74\"/>\n",
       "<text text-anchor=\"middle\" x=\"51.62\" y=\"-269.41\" font-family=\"Times,serif\" font-size=\"14.00\">Int (1)</text>\n",
       "<text text-anchor=\"middle\" x=\"51.62\" y=\"-254.41\" font-family=\"Times,serif\" font-size=\"14.00\">value: 2</text>\n",
       "</g>\n",
       "<!-- N3 -->\n",
       "<g id=\"node3\" class=\"node\">\n",
       "<title>N3</title>\n",
       "<polygon fill=\"#de707f\" fill-opacity=\"0.466667\" stroke=\"black\" stroke-width=\"0\" points=\"171.62,-172.74 51.62,-172.74 51.62,-119.74 171.62,-119.74 171.62,-172.74\"/>\n",
       "<text text-anchor=\"middle\" x=\"111.62\" y=\"-157.54\" font-family=\"Times,serif\" font-size=\"14.00\">multiply (3)</text>\n",
       "<text text-anchor=\"middle\" x=\"111.62\" y=\"-142.54\" font-family=\"Times,serif\" font-size=\"14.00\">State: finished</text>\n",
       "<text text-anchor=\"middle\" x=\"111.62\" y=\"-127.54\" font-family=\"Times,serif\" font-size=\"14.00\">Exit Code: 0</text>\n",
       "</g>\n",
       "<!-- N1&#45;&gt;N3 -->\n",
       "<g id=\"edge1\" class=\"edge\">\n",
       "<title>N1&#45;&gt;N3</title>\n",
       "<path fill=\"none\" stroke=\"#000000\" d=\"M48.37,-238.59C47.7,-223.77 48.95,-205.3 56.62,-190.74 58.6,-186.98 61.06,-183.44 63.83,-180.13\"/>\n",
       "<polygon fill=\"#000000\" stroke=\"#000000\" points=\"66.43,-182.47 70.79,-172.81 61.36,-177.65 66.43,-182.47\"/>\n",
       "<text text-anchor=\"middle\" x=\"103.62\" y=\"-209.54\" font-family=\"Times,serif\" font-size=\"14.00\">INPUT_CALC</text>\n",
       "<text text-anchor=\"middle\" x=\"103.62\" y=\"-194.54\" font-family=\"Times,serif\" font-size=\"14.00\">x</text>\n",
       "</g>\n",
       "<!-- N2 -->\n",
       "<g id=\"node2\" class=\"node\">\n",
       "<title>N2</title>\n",
       "<ellipse fill=\"#8cd499\" stroke=\"black\" stroke-width=\"0\" cx=\"172.62\" cy=\"-265.61\" rx=\"51.74\" ry=\"26.74\"/>\n",
       "<text text-anchor=\"middle\" x=\"172.62\" y=\"-269.41\" font-family=\"Times,serif\" font-size=\"14.00\">Int (2)</text>\n",
       "<text text-anchor=\"middle\" x=\"172.62\" y=\"-254.41\" font-family=\"Times,serif\" font-size=\"14.00\">value: 3</text>\n",
       "</g>\n",
       "<!-- N2&#45;&gt;N3 -->\n",
       "<g id=\"edge2\" class=\"edge\">\n",
       "<title>N2&#45;&gt;N3</title>\n",
       "<path fill=\"none\" stroke=\"#000000\" d=\"M167.81,-238.54C164.4,-223.87 158.92,-205.57 150.62,-190.74 148.78,-187.45 146.65,-184.2 144.35,-181.04\"/>\n",
       "<polygon fill=\"#000000\" stroke=\"#000000\" points=\"146.91,-178.64 137.97,-172.95 141.42,-182.97 146.91,-178.64\"/>\n",
       "<text text-anchor=\"middle\" x=\"209.62\" y=\"-209.54\" font-family=\"Times,serif\" font-size=\"14.00\">INPUT_CALC</text>\n",
       "<text text-anchor=\"middle\" x=\"209.62\" y=\"-194.54\" font-family=\"Times,serif\" font-size=\"14.00\">y</text>\n",
       "</g>\n",
       "<!-- N4 -->\n",
       "<g id=\"node4\" class=\"node\">\n",
       "<title>N4</title>\n",
       "<ellipse fill=\"#8cd499\" stroke=\"black\" stroke-width=\"0\" cx=\"111.62\" cy=\"-26.87\" rx=\"51.74\" ry=\"26.74\"/>\n",
       "<text text-anchor=\"middle\" x=\"111.62\" y=\"-30.67\" font-family=\"Times,serif\" font-size=\"14.00\">Int (4)</text>\n",
       "<text text-anchor=\"middle\" x=\"111.62\" y=\"-15.67\" font-family=\"Times,serif\" font-size=\"14.00\">value: 6</text>\n",
       "</g>\n",
       "<!-- N3&#45;&gt;N4 -->\n",
       "<g id=\"edge3\" class=\"edge\">\n",
       "<title>N3&#45;&gt;N4</title>\n",
       "<path fill=\"none\" stroke=\"#000000\" d=\"M111.62,-119.48C111.62,-103.24 111.62,-82.01 111.62,-64.09\"/>\n",
       "<polygon fill=\"#000000\" stroke=\"#000000\" points=\"115.12,-63.97 111.62,-53.97 108.12,-63.97 115.12,-63.97\"/>\n",
       "<text text-anchor=\"middle\" x=\"142.12\" y=\"-90.54\" font-family=\"Times,serif\" font-size=\"14.00\">CREATE</text>\n",
       "<text text-anchor=\"middle\" x=\"142.12\" y=\"-75.54\" font-family=\"Times,serif\" font-size=\"14.00\">result</text>\n",
       "</g>\n",
       "</g>\n",
       "</svg>\n"
      ],
      "text/plain": [
       "<graphviz.graphs.Digraph at 0x7f277bfce290>"
      ]
     },
     "execution_count": 13,
     "metadata": {},
     "output_type": "execute_result"
    }
   ],
   "source": [
    "from aiida.tools.visualization import Graph\n",
    "graph = Graph()\n",
    "calc_node = orm.load_node(3)\n",
    "graph.add_incoming(calc_node, annotate_links=\"both\")\n",
    "graph.add_outgoing(calc_node, annotate_links=\"both\")\n",
    "graph.graphviz"
   ]
  },
  {
   "cell_type": "markdown",
   "id": "825e879f",
   "metadata": {},
   "source": [
    ":::{note}\n",
    "Remember that the PK of the `CalcJob` can be different for your database.\n",
    ":::\n",
    "\n",
    "(tutorial:basic:calcjob)=\n",
    "\n",
    "## CalcJobs\n",
    "\n",
    "When running calculations that require an external code or run on a remote machine, a simple calculation function is no longer sufficient.\n",
    "For this purpose, AiiDA provides the `CalcJob` process class.\n",
    "\n",
    "To run a `CalcJob`, you need to set up two things: a `code` that is going to implement the desired calculation and a `computer` for the calculation to run on.\n",
    "\n",
    "If you're running this tutorial in the Quantum Mobile VM or on Binder, these have been pre-configured for you. If you're running on your own machine, you can follow the instructions in the panel below.\n",
    "\n",
    ":::{seealso}\n",
    "More details for how to {ref}`run external codes <how-to:run-codes>`.\n",
    ":::\n",
    "\n",
    ":::{dropdown} Install localhost computer and code\n",
    "\n",
    "Let's begin by setting up the computer using the ``verdi computer`` subcommand:\n",
    "\n",
    "```console\n",
    "$ verdi computer setup -L tutor -H localhost -T core.local -S core.direct -w `echo $PWD/work` -n\n",
    "$ verdi computer configure core.local tutor --safe-interval 1 -n\n",
    "```\n",
    "\n",
    "The first commands sets up the computer with the following options:\n",
    "\n",
    "- *label* (`-L`): tutor\n",
    "- *hostname* (`-H`): localhost\n",
    "- *transport* (`-T`): local\n",
    "- *scheduler* (`-S`): direct\n",
    "- *work-dir* (`-w`): The `work` subdirectory of the current directory\n",
    "\n",
    "The second command *configures* the computer with a minimum interval between connections (`--safe-interval`) of 1 second.\n",
    "For both commands, the *non-interactive* option (`-n`) is added to not prompt for extra input.\n",
    "\n",
    "Next, let's set up the code we're going to use for the tutorial:\n",
    "\n",
    "```console\n",
    "$ verdi code create core.code.installed --label add --computer=tutor --default-calc-job-plugin core.arithmetic.add --filepath-executable=/bin/bash -n\n",
    "```\n",
    "\n",
    "This command sets up a code with *label* `add` on the *computer* `tutor`, using the *plugin* `core.arithmetic.add`.\n",
    "\n",
    ":::"
   ]
  },
  {
   "cell_type": "code",
   "execution_count": 14,
   "id": "da2d2355",
   "metadata": {
    "tags": [
     "hide-cell"
    ]
   },
   "outputs": [
    {
     "name": "stdout",
     "output_type": "stream",
     "text": [
      "\u001b[32m\u001b[1mSuccess: \u001b[0m\u001b[22mComputer<1> tutor created\u001b[0m\n",
      "\u001b[34m\u001b[1mReport\u001b[0m: \u001b[22mNote: before the computer can be used, it has to be configured with the command:\u001b[0m\n",
      "\u001b[34m\u001b[1mReport\u001b[0m: \u001b[22m  verdi -p myprofile computer configure core.local tutor\u001b[0m\n",
      "\u001b[34m\u001b[1mReport\u001b[0m: \u001b[22mConfiguring computer tutor for user user@email.com.\u001b[0m\n",
      "\u001b[32m\u001b[1mSuccess: \u001b[0m\u001b[22mtutor successfully configured for user@email.com\u001b[0m\n",
      "\u001b[32m\u001b[1mSuccess: \u001b[0m\u001b[22mCreated InstalledCode<5>\u001b[0m\n"
     ]
    },
    {
     "name": "stdout",
     "output_type": "stream",
     "text": [
      "\u001b[34m\u001b[1mReport\u001b[0m: \u001b[22mNote: before the computer can be used, it has to be configured with the command:\u001b[0m\n"
     ]
    },
    {
     "name": "stdout",
     "output_type": "stream",
     "text": [
      "\u001b[34m\u001b[1mReport\u001b[0m: \u001b[22m  verdi -p myprofile computer configure core.local tutor\u001b[0m\n"
     ]
    },
    {
     "name": "stdout",
     "output_type": "stream",
     "text": [
      "\u001b[34m\u001b[1mReport\u001b[0m: \u001b[22mConfiguring computer tutor for user user@email.com.\u001b[0m\n"
     ]
    },
    {
     "name": "stdout",
     "output_type": "stream",
     "text": [
      "\u001b[32m\u001b[1mSuccess: \u001b[0m\u001b[22mtutor successfully configured for user@email.com\u001b[0m\n"
     ]
    },
    {
     "name": "stdout",
     "output_type": "stream",
     "text": [
      "\u001b[32m\u001b[1mSuccess: \u001b[0m\u001b[22mCreated InstalledCode<5>\u001b[0m\n"
     ]
    },
    {
     "name": "stderr",
     "output_type": "stream",
     "text": [
      "/home/docs/checkouts/readthedocs.org/user_builds/aiida-core/envs/latest/lib/python3.10/site-packages/pydantic/main.py:347: UserWarning: Pydantic serializer warnings:\n",
      "  Expected `str` but got `Computer` - serialized value may not be as expected\n",
      "  return self.__pydantic_serializer__.to_python(\n",
      "/home/docs/checkouts/readthedocs.org/user_builds/aiida-core/envs/latest/lib/python3.10/site-packages/aiida/orm/nodes/data/code/legacy.py:78: AiidaDeprecationWarning: The `Code` class is deprecated. To create an instance, use the `aiida.orm.nodes.data.code.installed.InstalledCode` or `aiida.orm.nodes.data.code.portable.PortableCode` for a \"remote\" or \"local\" code, respectively. If you are using this class to compare type, e.g. in `isinstance`, use `aiida.orm.nodes.data.code.abstract.AbstractCode`. (this will be removed in v3)\n",
      "  warn_deprecation(\n"
     ]
    }
   ],
   "source": [
    "%verdi computer setup -L tutor -H localhost -T core.local -S core.direct -w /tmp -n\n",
    "%verdi computer configure core.local tutor --safe-interval 0 -n\n",
    "%verdi code create core.code.installed --label add --computer=tutor --default-calc-job-plugin core.arithmetic.add --filepath-executable=/bin/bash -n"
   ]
  },
  {
   "cell_type": "markdown",
   "id": "4c214754",
   "metadata": {},
   "source": [
    "A typical real-world example of a computer is a remote supercomputing facility.\n",
    "Codes can be anything from a Python script to powerful *ab initio* codes such as Quantum Espresso or machine learning tools like Tensorflow.\n",
    "Let's have a look at the codes that are available to us:"
   ]
  },
  {
   "cell_type": "code",
   "execution_count": 15,
   "id": "0336a716",
   "metadata": {},
   "outputs": [
    {
     "name": "stdout",
     "output_type": "stream",
     "text": [
      "\u001b[22mFull label      Pk  Entry point\n",
      "------------  ----  -------------------\n",
      "add@tutor        5  core.code.installed\u001b[0m\n",
      "\u001b[22m\n",
      "Use `verdi code show IDENTIFIER` to see details for a code\u001b[0m\n"
     ]
    },
    {
     "name": "stdout",
     "output_type": "stream",
     "text": [
      "\u001b[22m\n",
      "Use `verdi code show IDENTIFIER` to see details for a code\u001b[0m\n"
     ]
    }
   ],
   "source": [
    "%verdi code list"
   ]
  },
  {
   "cell_type": "markdown",
   "id": "2a5cedef",
   "metadata": {},
   "source": [
    "You can see a single code `add@tutor`, with PK = 5, in the printed list.\n",
    "This code allows us to add two integers together.\n",
    "The `add@tutor` identifier indicates that the code with label `add` is run on the computer with label `tutor`.\n",
    "To see more details about the computer, you can use the following `verdi` command:"
   ]
  },
  {
   "cell_type": "code",
   "execution_count": 16,
   "id": "675d1ed2",
   "metadata": {},
   "outputs": [
    {
     "name": "stdout",
     "output_type": "stream",
     "text": [
      "\u001b[22m---------------------------  ------------------------------------\n",
      "Label                        tutor\n",
      "PK                           1\n",
      "UUID                         af138e08-7ebc-4a44-8db3-46e7028ade30\n",
      "Description\n",
      "Hostname                     localhost\n",
      "Transport type               core.local\n",
      "Scheduler type               core.direct\n",
      "Work directory               /tmp\n",
      "Shebang                      #!/bin/bash\n",
      "Mpirun command               mpirun -np {tot_num_mpiprocs}\n",
      "Default #procs/machine\n",
      "Default memory (kB)/machine\n",
      "Prepend text\n",
      "Append text\n",
      "---------------------------  ------------------------------------\u001b[0m\n"
     ]
    }
   ],
   "source": [
    "%verdi computer show tutor"
   ]
  },
  {
   "cell_type": "markdown",
   "id": "ab9b4f31",
   "metadata": {},
   "source": [
    "We can see that the *Work directory* has been set up as the `work` subdirectory of the current directory.\n",
    "This is the directory in which the calculations running on the `tutor` computer will be executed.\n",
    "\n",
    ":::{note}\n",
    "You may have noticed that the PK of the `tutor` computer is 1, same as the `Int` node we created at the start of this tutorial.\n",
    "This is because different entities, such as nodes, computers and groups, are stored in different tables of the database.\n",
    "So, the PKs for each entity type are unique for each database, but entities of different types can have the same PK within one database.\n",
    ":::\n",
    "\n",
    "Let's now start up the `verdi shell` again and load the `add@tutor` code using its label:"
   ]
  },
  {
   "cell_type": "code",
   "execution_count": 17,
   "id": "853db8b1",
   "metadata": {},
   "outputs": [
    {
     "data": {
      "text/plain": [
       "<InstalledCode: Remote code 'add' on tutor pk: 5, uuid: ebd19343-054f-49e2-840b-c381903adea0>"
      ]
     },
     "execution_count": 17,
     "metadata": {},
     "output_type": "execute_result"
    }
   ],
   "source": [
    "code = orm.load_code(label='add')\n",
    "code"
   ]
  },
  {
   "cell_type": "markdown",
   "id": "bd09927c",
   "metadata": {},
   "source": [
    "Every code has a convenient tool for setting up the required input, called the *builder*.\n",
    "It can be obtained by using the `get_builder` method:"
   ]
  },
  {
   "cell_type": "code",
   "execution_count": 18,
   "id": "fa746cf6",
   "metadata": {},
   "outputs": [
    {
     "data": {
      "text/plain": [
       "Process class: ArithmeticAddCalculation\n",
       "Inputs:\n",
       "code: add@tutor\n",
       "metadata:\n",
       "  options:\n",
       "    stash: {}\n",
       "monitors: {}\n"
      ]
     },
     "execution_count": 18,
     "metadata": {},
     "output_type": "execute_result"
    }
   ],
   "source": [
    "builder = code.get_builder()\n",
    "builder"
   ]
  },
  {
   "cell_type": "markdown",
   "id": "37499643",
   "metadata": {},
   "source": [
    "Using the builder, you can easily set up the calculation by directly providing the input arguments.\n",
    "Let's use the `Int` node that was created by our previous `calcfunction` as one of the inputs and a new node as the second input:"
   ]
  },
  {
   "cell_type": "code",
   "execution_count": 19,
   "id": "83d77971",
   "metadata": {},
   "outputs": [
    {
     "data": {
      "text/plain": [
       "Process class: ArithmeticAddCalculation\n",
       "Inputs:\n",
       "code: add@tutor\n",
       "metadata:\n",
       "  options:\n",
       "    stash: {}\n",
       "monitors: {}\n",
       "x: 6\n",
       "y: 5\n"
      ]
     },
     "execution_count": 19,
     "metadata": {},
     "output_type": "execute_result"
    }
   ],
   "source": [
    "builder.x = orm.load_node(pk=4)\n",
    "builder.y = orm.Int(5)\n",
    "builder"
   ]
  },
  {
   "cell_type": "markdown",
   "id": "147c5dca",
   "metadata": {},
   "source": [
    "In case that your nodes' PKs are different and you don't remember the PK of the output node from the previous calculation, check the provenance graph you generated earlier and use the UUID of the output node instead:\n",
    "\n",
    "```ipython\n",
    "In [3]: builder.x = orm.load_node(uuid='42541d38')\n",
    "   ...: builder.y = orm.Int(5)\n",
    "```\n",
    "\n",
    "Note that you don't have to provide the entire UUID to load the node.\n",
    "As long as the first part of the UUID is unique within your database, AiiDA will find the node you are looking for.\n",
    "\n",
    ":::{note}\n",
    "One nifty feature of the builder is the ability to use tab completion for the inputs.\n",
    "Try it out by typing `builder.` + `<TAB>` in the verdi shell.\n",
    ":::\n",
    "\n",
    "To execute the `CalcJob`, we use the `run` function provided by the AiiDA engine, and wait for the process to complete:"
   ]
  },
  {
   "cell_type": "code",
   "execution_count": 20,
   "id": "f27856c7",
   "metadata": {},
   "outputs": [
    {
     "data": {
      "text/plain": [
       "{'remote_folder': <RemoteData: uuid: 08c8242d-ede0-4ed7-9eea-9e14fbe5364d (pk: 8)>,\n",
       " 'retrieved': <FolderData: uuid: a14b464f-b47b-462b-8e5c-11b03ea07d4a (pk: 9)>,\n",
       " 'sum': <Int: uuid: 60fc7c1a-6445-439a-a9b4-66f35d7b525a (pk: 10) value: 11>}"
      ]
     },
     "execution_count": 20,
     "metadata": {},
     "output_type": "execute_result"
    }
   ],
   "source": [
    "engine.run(builder)"
   ]
  },
  {
   "cell_type": "markdown",
   "id": "6eef9370",
   "metadata": {},
   "source": [
    "Besides the sum of the two `Int` nodes, the calculation function also returns two other outputs: one of type `RemoteData` and one of type `FolderData`.\n",
    "See the {ref}`topics section on calculation jobs <topics:calculations:usage:calcfunctions>` for more details.\n",
    "Now, exit the IPython shell and once more check for *all* processes:"
   ]
  },
  {
   "cell_type": "code",
   "execution_count": 21,
   "id": "6134d9e7",
   "metadata": {},
   "outputs": [
    {
     "name": "stdout",
     "output_type": "stream",
     "text": [
      "\u001b[22m  PK  Created    Process label             ♻    Process State    Process status\n",
      "----  ---------  ------------------------  ---  ---------------  ----------------\n",
      "   3  3s ago     multiply                       ⏹ Finished [0]\n",
      "   7  1s ago     ArithmeticAddCalculation       ⏹ Finished [0]\u001b[0m\n",
      "\u001b[22m\n",
      "Total results: 2\n",
      "\u001b[0m\n",
      "\u001b[34m\u001b[1mReport\u001b[0m: \u001b[22m♻ Processes marked with check-mark were not run but taken from the cache.\u001b[0m\n",
      "\u001b[34m\u001b[1mReport\u001b[0m: \u001b[22mAdd the option `-P pk cached_from` to the command to display cache source.\u001b[0m\n",
      "\u001b[34m\u001b[1mReport\u001b[0m: \u001b[22mLast time an entry changed state: 0s ago (at 04:12:23 on 2024-05-05)\u001b[0m\n",
      "\u001b[93m\u001b[1mWarning\u001b[0m: \u001b[22mThis profile does not have a broker and so it has no daemon.\u001b[0m\n"
     ]
    },
    {
     "name": "stdout",
     "output_type": "stream",
     "text": [
      "\u001b[22m\n",
      "Total results: 2\n",
      "\u001b[0m\n"
     ]
    },
    {
     "name": "stdout",
     "output_type": "stream",
     "text": [
      "\u001b[34m\u001b[1mReport\u001b[0m: \u001b[22m♻ Processes marked with check-mark were not run but taken from the cache.\u001b[0m\n"
     ]
    },
    {
     "name": "stdout",
     "output_type": "stream",
     "text": [
      "\u001b[34m\u001b[1mReport\u001b[0m: \u001b[22mAdd the option `-P pk cached_from` to the command to display cache source.\u001b[0m\n"
     ]
    },
    {
     "name": "stdout",
     "output_type": "stream",
     "text": [
      "\u001b[34m\u001b[1mReport\u001b[0m: \u001b[22mLast time an entry changed state: 0s ago (at 04:12:23 on 2024-05-05)\u001b[0m\n"
     ]
    },
    {
     "name": "stdout",
     "output_type": "stream",
     "text": [
      "\u001b[93m\u001b[1mWarning\u001b[0m: \u001b[22mThis profile does not have a broker and so it has no daemon.\u001b[0m\n"
     ]
    }
   ],
   "source": [
    "%verdi process list -a"
   ]
  },
  {
   "cell_type": "markdown",
   "id": "baf3ac82",
   "metadata": {},
   "source": [
    "You should now see two processes in the list.\n",
    "One is the `multiply` calcfunction you ran earlier, the second is the `ArithmeticAddCalculation` CalcJob that you have just run.\n",
    "Grab the PK of the `ArithmeticAddCalculation`, and generate the provenance graph.\n",
    "The result should look like the graph shown below.\n",
    "\n",
    "```console\n",
    "$ verdi node graph generate 7\n",
    "```"
   ]
  },
  {
   "cell_type": "code",
   "execution_count": 22,
   "id": "f89f2661",
   "metadata": {
    "mystnb": {
     "image": {
      "align": "center",
      "width": "400px"
     }
    },
    "tags": [
     "hide-input"
    ]
   },
   "outputs": [
    {
     "data": {
      "image/svg+xml": [
       "<?xml version=\"1.0\" encoding=\"UTF-8\" standalone=\"no\"?>\n",
       "<!DOCTYPE svg PUBLIC \"-//W3C//DTD SVG 1.1//EN\"\n",
       " \"http://www.w3.org/Graphics/SVG/1.1/DTD/svg11.dtd\">\n",
       "<!-- Generated by graphviz version 2.43.0 (0)\n",
       " -->\n",
       "<!-- Title: %3 Pages: 1 -->\n",
       "<svg width=\"513pt\" height=\"539pt\"\n",
       " viewBox=\"0.00 0.00 512.62 539.22\" xmlns=\"http://www.w3.org/2000/svg\" xmlns:xlink=\"http://www.w3.org/1999/xlink\">\n",
       "<g id=\"graph0\" class=\"graph\" transform=\"scale(1 1) rotate(0) translate(4 535.22)\">\n",
       "<title>%3</title>\n",
       "<polygon fill=\"white\" stroke=\"transparent\" points=\"-4,4 -4,-535.22 508.62,-535.22 508.62,4 -4,4\"/>\n",
       "<!-- N7 -->\n",
       "<g id=\"node1\" class=\"node\">\n",
       "<title>N7</title>\n",
       "<polygon fill=\"#de707f\" stroke=\"red\" stroke-width=\"6\" points=\"391.62,-172.74 167.62,-172.74 167.62,-119.74 391.62,-119.74 391.62,-172.74\"/>\n",
       "<text text-anchor=\"middle\" x=\"279.62\" y=\"-157.54\" font-family=\"Times,serif\" font-size=\"14.00\">ArithmeticAddCalculation (7)</text>\n",
       "<text text-anchor=\"middle\" x=\"279.62\" y=\"-142.54\" font-family=\"Times,serif\" font-size=\"14.00\">State: finished</text>\n",
       "<text text-anchor=\"middle\" x=\"279.62\" y=\"-127.54\" font-family=\"Times,serif\" font-size=\"14.00\">Exit Code: 0</text>\n",
       "</g>\n",
       "<!-- N8 -->\n",
       "<g id=\"node8\" class=\"node\">\n",
       "<title>N8</title>\n",
       "<ellipse fill=\"#8cd499\" stroke=\"black\" stroke-width=\"0\" cx=\"92.62\" cy=\"-26.87\" rx=\"91.43\" ry=\"26.74\"/>\n",
       "<text text-anchor=\"middle\" x=\"92.62\" y=\"-30.67\" font-family=\"Times,serif\" font-size=\"14.00\">RemoteData (8)</text>\n",
       "<text text-anchor=\"middle\" x=\"92.62\" y=\"-15.67\" font-family=\"Times,serif\" font-size=\"14.00\">@tutor</text>\n",
       "</g>\n",
       "<!-- N7&#45;&gt;N8 -->\n",
       "<g id=\"edge9\" class=\"edge\">\n",
       "<title>N7&#45;&gt;N8</title>\n",
       "<path fill=\"none\" stroke=\"#000000\" d=\"M209.48,-119.67C197.84,-114.37 186.14,-108.36 175.62,-101.74 156.99,-90.02 138.48,-74.07 123.68,-59.99\"/>\n",
       "<polygon fill=\"#000000\" stroke=\"#000000\" points=\"125.91,-57.28 116.3,-52.83 121.04,-62.3 125.91,-57.28\"/>\n",
       "<text text-anchor=\"middle\" x=\"225.62\" y=\"-90.54\" font-family=\"Times,serif\" font-size=\"14.00\">CREATE</text>\n",
       "<text text-anchor=\"middle\" x=\"225.62\" y=\"-75.54\" font-family=\"Times,serif\" font-size=\"14.00\">remote_folder</text>\n",
       "</g>\n",
       "<!-- N9 -->\n",
       "<g id=\"node9\" class=\"node\">\n",
       "<title>N9</title>\n",
       "<ellipse fill=\"#8cd499\" stroke=\"black\" stroke-width=\"0\" cx=\"279.62\" cy=\"-26.87\" rx=\"77.99\" ry=\"18\"/>\n",
       "<text text-anchor=\"middle\" x=\"279.62\" y=\"-23.17\" font-family=\"Times,serif\" font-size=\"14.00\">FolderData (9)</text>\n",
       "</g>\n",
       "<!-- N7&#45;&gt;N9 -->\n",
       "<g id=\"edge8\" class=\"edge\">\n",
       "<title>N7&#45;&gt;N9</title>\n",
       "<path fill=\"none\" stroke=\"#000000\" d=\"M279.62,-119.48C279.62,-100.47 279.62,-74.63 279.62,-55.24\"/>\n",
       "<polygon fill=\"#000000\" stroke=\"#000000\" points=\"283.12,-55.22 279.62,-45.22 276.12,-55.22 283.12,-55.22\"/>\n",
       "<text text-anchor=\"middle\" x=\"313.12\" y=\"-90.54\" font-family=\"Times,serif\" font-size=\"14.00\">CREATE</text>\n",
       "<text text-anchor=\"middle\" x=\"313.12\" y=\"-75.54\" font-family=\"Times,serif\" font-size=\"14.00\">retrieved</text>\n",
       "</g>\n",
       "<!-- N10 -->\n",
       "<g id=\"node10\" class=\"node\">\n",
       "<title>N10</title>\n",
       "<ellipse fill=\"#8cd499\" stroke=\"black\" stroke-width=\"0\" cx=\"433.62\" cy=\"-26.87\" rx=\"57.97\" ry=\"26.74\"/>\n",
       "<text text-anchor=\"middle\" x=\"433.62\" y=\"-30.67\" font-family=\"Times,serif\" font-size=\"14.00\">Int (10)</text>\n",
       "<text text-anchor=\"middle\" x=\"433.62\" y=\"-15.67\" font-family=\"Times,serif\" font-size=\"14.00\">value: 11</text>\n",
       "</g>\n",
       "<!-- N7&#45;&gt;N10 -->\n",
       "<g id=\"edge7\" class=\"edge\">\n",
       "<title>N7&#45;&gt;N10</title>\n",
       "<path fill=\"none\" stroke=\"#000000\" d=\"M324.35,-119.51C333.25,-113.93 342.38,-107.86 350.62,-101.74 368.43,-88.52 386.98,-72.28 402.01,-58.39\"/>\n",
       "<polygon fill=\"#000000\" stroke=\"#000000\" points=\"404.61,-60.76 409.53,-51.38 399.84,-55.64 404.61,-60.76\"/>\n",
       "<text text-anchor=\"middle\" x=\"416.12\" y=\"-90.54\" font-family=\"Times,serif\" font-size=\"14.00\">CREATE</text>\n",
       "<text text-anchor=\"middle\" x=\"416.12\" y=\"-75.54\" font-family=\"Times,serif\" font-size=\"14.00\">sum</text>\n",
       "</g>\n",
       "<!-- N1 -->\n",
       "<g id=\"node2\" class=\"node\">\n",
       "<title>N1</title>\n",
       "<ellipse fill=\"#8cd499\" stroke=\"black\" stroke-width=\"0\" cx=\"51.62\" cy=\"-504.35\" rx=\"51.74\" ry=\"26.74\"/>\n",
       "<text text-anchor=\"middle\" x=\"51.62\" y=\"-508.15\" font-family=\"Times,serif\" font-size=\"14.00\">Int (1)</text>\n",
       "<text text-anchor=\"middle\" x=\"51.62\" y=\"-493.15\" font-family=\"Times,serif\" font-size=\"14.00\">value: 2</text>\n",
       "</g>\n",
       "<!-- N3 -->\n",
       "<g id=\"node4\" class=\"node\">\n",
       "<title>N3</title>\n",
       "<polygon fill=\"#de707f\" fill-opacity=\"0.466667\" stroke=\"black\" stroke-width=\"0\" points=\"171.62,-411.48 51.62,-411.48 51.62,-358.48 171.62,-358.48 171.62,-411.48\"/>\n",
       "<text text-anchor=\"middle\" x=\"111.62\" y=\"-396.28\" font-family=\"Times,serif\" font-size=\"14.00\">multiply (3)</text>\n",
       "<text text-anchor=\"middle\" x=\"111.62\" y=\"-381.28\" font-family=\"Times,serif\" font-size=\"14.00\">State: finished</text>\n",
       "<text text-anchor=\"middle\" x=\"111.62\" y=\"-366.28\" font-family=\"Times,serif\" font-size=\"14.00\">Exit Code: 0</text>\n",
       "</g>\n",
       "<!-- N1&#45;&gt;N3 -->\n",
       "<g id=\"edge1\" class=\"edge\">\n",
       "<title>N1&#45;&gt;N3</title>\n",
       "<path fill=\"none\" stroke=\"#000000\" d=\"M48.37,-477.33C47.7,-462.51 48.95,-444.04 56.62,-429.48 58.6,-425.72 61.06,-422.18 63.83,-418.87\"/>\n",
       "<polygon fill=\"#000000\" stroke=\"#000000\" points=\"66.43,-421.21 70.79,-411.55 61.36,-416.39 66.43,-421.21\"/>\n",
       "<text text-anchor=\"middle\" x=\"103.62\" y=\"-448.28\" font-family=\"Times,serif\" font-size=\"14.00\">INPUT_CALC</text>\n",
       "<text text-anchor=\"middle\" x=\"103.62\" y=\"-433.28\" font-family=\"Times,serif\" font-size=\"14.00\">x</text>\n",
       "</g>\n",
       "<!-- N2 -->\n",
       "<g id=\"node3\" class=\"node\">\n",
       "<title>N2</title>\n",
       "<ellipse fill=\"#8cd499\" stroke=\"black\" stroke-width=\"0\" cx=\"172.62\" cy=\"-504.35\" rx=\"51.74\" ry=\"26.74\"/>\n",
       "<text text-anchor=\"middle\" x=\"172.62\" y=\"-508.15\" font-family=\"Times,serif\" font-size=\"14.00\">Int (2)</text>\n",
       "<text text-anchor=\"middle\" x=\"172.62\" y=\"-493.15\" font-family=\"Times,serif\" font-size=\"14.00\">value: 3</text>\n",
       "</g>\n",
       "<!-- N2&#45;&gt;N3 -->\n",
       "<g id=\"edge2\" class=\"edge\">\n",
       "<title>N2&#45;&gt;N3</title>\n",
       "<path fill=\"none\" stroke=\"#000000\" d=\"M167.81,-477.28C164.4,-462.61 158.92,-444.31 150.62,-429.48 148.78,-426.19 146.65,-422.94 144.35,-419.78\"/>\n",
       "<polygon fill=\"#000000\" stroke=\"#000000\" points=\"146.91,-417.38 137.97,-411.69 141.42,-421.71 146.91,-417.38\"/>\n",
       "<text text-anchor=\"middle\" x=\"210.62\" y=\"-448.28\" font-family=\"Times,serif\" font-size=\"14.00\">INPUT_CALC</text>\n",
       "<text text-anchor=\"middle\" x=\"210.62\" y=\"-433.28\" font-family=\"Times,serif\" font-size=\"14.00\">y</text>\n",
       "</g>\n",
       "<!-- N4 -->\n",
       "<g id=\"node5\" class=\"node\">\n",
       "<title>N4</title>\n",
       "<ellipse fill=\"#8cd499\" stroke=\"black\" stroke-width=\"0\" cx=\"111.62\" cy=\"-265.61\" rx=\"51.74\" ry=\"26.74\"/>\n",
       "<text text-anchor=\"middle\" x=\"111.62\" y=\"-269.41\" font-family=\"Times,serif\" font-size=\"14.00\">Int (4)</text>\n",
       "<text text-anchor=\"middle\" x=\"111.62\" y=\"-254.41\" font-family=\"Times,serif\" font-size=\"14.00\">value: 6</text>\n",
       "</g>\n",
       "<!-- N3&#45;&gt;N4 -->\n",
       "<g id=\"edge5\" class=\"edge\">\n",
       "<title>N3&#45;&gt;N4</title>\n",
       "<path fill=\"none\" stroke=\"#000000\" d=\"M111.62,-358.22C111.62,-341.98 111.62,-320.75 111.62,-302.83\"/>\n",
       "<polygon fill=\"#000000\" stroke=\"#000000\" points=\"115.12,-302.71 111.62,-292.71 108.12,-302.71 115.12,-302.71\"/>\n",
       "<text text-anchor=\"middle\" x=\"142.12\" y=\"-329.28\" font-family=\"Times,serif\" font-size=\"14.00\">CREATE</text>\n",
       "<text text-anchor=\"middle\" x=\"142.12\" y=\"-314.28\" font-family=\"Times,serif\" font-size=\"14.00\">result</text>\n",
       "</g>\n",
       "<!-- N4&#45;&gt;N7 -->\n",
       "<g id=\"edge4\" class=\"edge\">\n",
       "<title>N4&#45;&gt;N7</title>\n",
       "<path fill=\"none\" stroke=\"#000000\" d=\"M130.4,-240.27C143.46,-224.59 161.99,-204.6 181.62,-190.74 188.39,-185.95 195.78,-181.52 203.36,-177.45\"/>\n",
       "<polygon fill=\"#000000\" stroke=\"#000000\" points=\"205.02,-180.53 212.32,-172.85 201.82,-174.3 205.02,-180.53\"/>\n",
       "<text text-anchor=\"middle\" x=\"228.62\" y=\"-209.54\" font-family=\"Times,serif\" font-size=\"14.00\">INPUT_CALC</text>\n",
       "<text text-anchor=\"middle\" x=\"228.62\" y=\"-194.54\" font-family=\"Times,serif\" font-size=\"14.00\">x</text>\n",
       "</g>\n",
       "<!-- N5 -->\n",
       "<g id=\"node6\" class=\"node\">\n",
       "<title>N5</title>\n",
       "<ellipse fill=\"#8cd499\" stroke=\"black\" stroke-width=\"0\" cx=\"279.62\" cy=\"-265.61\" rx=\"98.08\" ry=\"26.74\"/>\n",
       "<text text-anchor=\"middle\" x=\"279.62\" y=\"-269.41\" font-family=\"Times,serif\" font-size=\"14.00\">InstalledCode (5)</text>\n",
       "<text text-anchor=\"middle\" x=\"279.62\" y=\"-254.41\" font-family=\"Times,serif\" font-size=\"14.00\">add@tutor</text>\n",
       "</g>\n",
       "<!-- N5&#45;&gt;N7 -->\n",
       "<g id=\"edge6\" class=\"edge\">\n",
       "<title>N5&#45;&gt;N7</title>\n",
       "<path fill=\"none\" stroke=\"#000000\" d=\"M279.62,-238.56C279.62,-222.19 279.62,-200.85 279.62,-182.91\"/>\n",
       "<polygon fill=\"#000000\" stroke=\"#000000\" points=\"283.12,-182.81 279.62,-172.81 276.12,-182.81 283.12,-182.81\"/>\n",
       "<text text-anchor=\"middle\" x=\"326.62\" y=\"-209.54\" font-family=\"Times,serif\" font-size=\"14.00\">INPUT_CALC</text>\n",
       "<text text-anchor=\"middle\" x=\"326.62\" y=\"-194.54\" font-family=\"Times,serif\" font-size=\"14.00\">code</text>\n",
       "</g>\n",
       "<!-- N6 -->\n",
       "<g id=\"node7\" class=\"node\">\n",
       "<title>N6</title>\n",
       "<ellipse fill=\"#8cd499\" stroke=\"black\" stroke-width=\"0\" cx=\"447.62\" cy=\"-265.61\" rx=\"51.74\" ry=\"26.74\"/>\n",
       "<text text-anchor=\"middle\" x=\"447.62\" y=\"-269.41\" font-family=\"Times,serif\" font-size=\"14.00\">Int (6)</text>\n",
       "<text text-anchor=\"middle\" x=\"447.62\" y=\"-254.41\" font-family=\"Times,serif\" font-size=\"14.00\">value: 5</text>\n",
       "</g>\n",
       "<!-- N6&#45;&gt;N7 -->\n",
       "<g id=\"edge3\" class=\"edge\">\n",
       "<title>N6&#45;&gt;N7</title>\n",
       "<path fill=\"none\" stroke=\"#000000\" d=\"M428.83,-240.27C415.77,-224.59 397.24,-204.6 377.62,-190.74 370.84,-185.95 363.46,-181.52 355.88,-177.45\"/>\n",
       "<polygon fill=\"#000000\" stroke=\"#000000\" points=\"357.41,-174.3 346.92,-172.85 354.22,-180.53 357.41,-174.3\"/>\n",
       "<text text-anchor=\"middle\" x=\"457.62\" y=\"-209.54\" font-family=\"Times,serif\" font-size=\"14.00\">INPUT_CALC</text>\n",
       "<text text-anchor=\"middle\" x=\"457.62\" y=\"-194.54\" font-family=\"Times,serif\" font-size=\"14.00\">y</text>\n",
       "</g>\n",
       "</g>\n",
       "</svg>\n"
      ],
      "text/plain": [
       "<graphviz.graphs.Digraph at 0x7f277bd20640>"
      ]
     },
     "execution_count": 22,
     "metadata": {},
     "output_type": "execute_result"
    }
   ],
   "source": [
    "from aiida.tools.visualization import Graph\n",
    "graph = Graph()\n",
    "calc_node = orm.load_node(7)\n",
    "graph.recurse_ancestors(calc_node, annotate_links=\"both\")\n",
    "graph.add_outgoing(calc_node, annotate_links=\"both\")\n",
    "graph.graphviz"
   ]
  },
  {
   "cell_type": "markdown",
   "id": "3dde27ca",
   "metadata": {},
   "source": [
    "You can see more details on any process, including its inputs and outputs, using the verdi shell:"
   ]
  },
  {
   "cell_type": "code",
   "execution_count": 23,
   "id": "ba4ebc33",
   "metadata": {},
   "outputs": [
    {
     "name": "stdout",
     "output_type": "stream",
     "text": [
      "\u001b[22mProperty     Value\n",
      "-----------  ------------------------------------\n",
      "type         ArithmeticAddCalculation\n",
      "state        Finished [0]\n",
      "pk           7\n",
      "uuid         21c842fb-7902-45bb-be66-a49c89b2ad67\n",
      "label\n",
      "description\n",
      "ctime        2024-05-05 04:12:21.923547+00:00\n",
      "mtime        2024-05-05 04:12:23.090713+00:00\n",
      "computer     [1] tutor\n",
      "\n",
      "Inputs      PK  Type\n",
      "--------  ----  -------------\n",
      "code         5  InstalledCode\n",
      "x            4  Int\n",
      "y            6  Int\n",
      "\n",
      "Outputs          PK  Type\n",
      "-------------  ----  ----------\n",
      "remote_folder     8  RemoteData\n",
      "retrieved         9  FolderData\n",
      "sum              10  Int\u001b[0m\n"
     ]
    }
   ],
   "source": [
    "%verdi process show 7"
   ]
  },
  {
   "cell_type": "markdown",
   "id": "ae77b158",
   "metadata": {},
   "source": [
    "## Workflows\n",
    "\n",
    "So far we have executed each process manually.\n",
    "AiiDA allows us to automate these steps by linking them together in a *workflow*, whose provenance is stored to ensure reproducibility.\n",
    "For this tutorial we have prepared a basic `WorkChain` that is already implemented in `aiida-core`.\n",
    "You can see the code below:\n",
    "\n",
    ":::{dropdown} MultiplyAddWorkChain code\n",
    "\n",
    "```{literalinclude} ../../../src/aiida/workflows/arithmetic/multiply_add.py\n",
    ":language: python\n",
    ":start-after: start-marker\n",
    "```\n",
    "\n",
    "First, we recognize the `multiply` function we have used earlier, decorated as a `calcfunction`.\n",
    "The `define` class method specifies the `input` and `output` of the `WorkChain`, as well as the `outline`, which are the steps of the workflow.\n",
    "These steps are provided as methods of the `MultiplyAddWorkChain` class.\n",
    "\n",
    ":::"
   ]
  },
  {
   "cell_type": "code",
   "execution_count": 24,
   "id": "ee118d3a",
   "metadata": {
    "tags": [
     "hide-cell"
    ]
   },
   "outputs": [],
   "source": [
    "from aiida.engine import ToContext, WorkChain, calcfunction\n",
    "from aiida.orm import AbstractCode, Int\n",
    "from aiida.plugins.factories import CalculationFactory\n",
    "\n",
    "ArithmeticAddCalculation = CalculationFactory('core.arithmetic.add')\n",
    "\n",
    "\n",
    "@calcfunction\n",
    "def multiply(x, y):\n",
    "    return x * y\n",
    "\n",
    "\n",
    "class MultiplyAddWorkChain(WorkChain):\n",
    "    \"\"\"WorkChain to multiply two numbers and add a third, for testing and demonstration purposes.\"\"\"\n",
    "\n",
    "    @classmethod\n",
    "    def define(cls, spec):\n",
    "        \"\"\"Specify inputs and outputs.\"\"\"\n",
    "        super().define(spec)\n",
    "        spec.input('x', valid_type=Int)\n",
    "        spec.input('y', valid_type=Int)\n",
    "        spec.input('z', valid_type=Int)\n",
    "        spec.input('code', valid_type=AbstractCode)\n",
    "        spec.outline(\n",
    "            cls.multiply,\n",
    "            cls.add,\n",
    "            cls.validate_result,\n",
    "            cls.result,\n",
    "        )\n",
    "        spec.output('result', valid_type=Int)\n",
    "        spec.exit_code(400, 'ERROR_NEGATIVE_NUMBER', message='The result is a negative number.')\n",
    "\n",
    "    def multiply(self):\n",
    "        \"\"\"Multiply two integers.\"\"\"\n",
    "        self.ctx.product = multiply(self.inputs.x, self.inputs.y)\n",
    "\n",
    "    def add(self):\n",
    "        \"\"\"Add two numbers using the `ArithmeticAddCalculation` calculation job plugin.\"\"\"\n",
    "        inputs = {'x': self.ctx.product, 'y': self.inputs.z, 'code': self.inputs.code}\n",
    "        future = self.submit(ArithmeticAddCalculation, **inputs)\n",
    "\n",
    "        return ToContext(addition=future)\n",
    "\n",
    "    def validate_result(self):\n",
    "        \"\"\"Make sure the result is not negative.\"\"\"\n",
    "        result = self.ctx.addition.outputs.sum\n",
    "\n",
    "        if result.value < 0:\n",
    "            return self.exit_codes.ERROR_NEGATIVE_NUMBER\n",
    "\n",
    "    def result(self):\n",
    "        \"\"\"Add the result to the outputs.\"\"\"\n",
    "        self.out('result', self.ctx.addition.outputs.sum)"
   ]
  },
  {
   "cell_type": "markdown",
   "id": "8b569b73",
   "metadata": {},
   "source": [
    ":::{note}\n",
    "Besides WorkChain's, workflows can also be implemented as {ref}`work functions <topics:workflows:concepts:workfunctions>`.\n",
    "These are ideal for workflows that are not very computationally intensive and can be easily implemented in a Python function.\n",
    ":::\n",
    "\n",
    "Let's run the `WorkChain` above!\n",
    "\n",
    "Start up the `verdi shell` and load the `MultiplyAddWorkChain` using the `WorkflowFactory`:"
   ]
  },
  {
   "cell_type": "code",
   "execution_count": 25,
   "id": "d9bba998",
   "metadata": {},
   "outputs": [],
   "source": [
    "from aiida import plugins\n",
    "MultiplyAddWorkChain = plugins.WorkflowFactory('core.arithmetic.multiply_add')"
   ]
  },
  {
   "cell_type": "markdown",
   "id": "7bf6c2fc",
   "metadata": {},
   "source": [
    "The `WorkflowFactory` loads workflows based on their {ref}`entry point <topics:plugins:entrypoints>`, e.g. `'core.arithmetic.multiply_add'` in this case.\n",
    "The entry point mechanism allows AiiDA to automatically discover workflows provided by  `aiida-core` and {ref}`AiiDA plugins <how-to:plugins-install>`, and display them to the user, e.g. via `verdi plugin list aiida.workflows`. Pass the entry point as an argument to display detailed information, e.g. via `verdi plugin list aiida.workflows core.arithmetic.multiply_add`.\n",
    "\n",
    "Similar to a `CalcJob`, the `WorkChain` input can be set up using a builder:"
   ]
  },
  {
   "cell_type": "code",
   "execution_count": 26,
   "id": "7d14b301",
   "metadata": {},
   "outputs": [
    {
     "data": {
      "text/plain": [
       "Process class: MultiplyAddWorkChain\n",
       "Inputs:\n",
       "code: add@tutor\n",
       "metadata: {}\n",
       "x: 2\n",
       "y: 3\n",
       "z: 5\n"
      ]
     },
     "execution_count": 26,
     "metadata": {},
     "output_type": "execute_result"
    }
   ],
   "source": [
    "from aiida import orm\n",
    "builder = MultiplyAddWorkChain.get_builder()\n",
    "builder.code = orm.load_code(label='add')\n",
    "builder.x = orm.Int(2)\n",
    "builder.y = orm.Int(3)\n",
    "builder.z = orm.Int(5)\n",
    "builder"
   ]
  },
  {
   "cell_type": "markdown",
   "id": "df7c8ebe",
   "metadata": {},
   "source": [
    "Once the `WorkChain` input has been set up, we run it with the AiiDA engine:"
   ]
  },
  {
   "cell_type": "code",
   "execution_count": 27,
   "id": "b88e192d",
   "metadata": {},
   "outputs": [
    {
     "data": {
      "text/plain": [
       "{'result': <Int: uuid: 1523e37d-0edb-471e-a6e1-ee8410e4c486 (pk: 20) value: 11>}"
      ]
     },
     "execution_count": 27,
     "metadata": {},
     "output_type": "execute_result"
    }
   ],
   "source": [
    "from aiida import engine\n",
    "engine.run(builder)"
   ]
  },
  {
   "cell_type": "markdown",
   "id": "bee3f81d",
   "metadata": {},
   "source": [
    "Now quickly leave the IPython shell and check the process list:"
   ]
  },
  {
   "cell_type": "code",
   "execution_count": 28,
   "id": "a52dba35",
   "metadata": {},
   "outputs": [
    {
     "name": "stdout",
     "output_type": "stream",
     "text": [
      "\u001b[22m  PK  Created    Process label             ♻    Process State    Process status\n",
      "----  ---------  ------------------------  ---  ---------------  ----------------\n",
      "   3  5s ago     multiply                       ⏹ Finished [0]\n",
      "   7  3s ago     ArithmeticAddCalculation       ⏹ Finished [0]\n",
      "  14  2s ago     MultiplyAddWorkChain           ⏹ Finished [0]\n",
      "  15  1s ago     multiply                       ⏹ Finished [0]\n",
      "  17  1s ago     ArithmeticAddCalculation       ⏹ Finished [0]\u001b[0m\n",
      "\u001b[22m\n",
      "Total results: 5\n",
      "\u001b[0m\n",
      "\u001b[34m\u001b[1mReport\u001b[0m: \u001b[22m♻ Processes marked with check-mark were not run but taken from the cache.\u001b[0m\n",
      "\u001b[34m\u001b[1mReport\u001b[0m: \u001b[22mAdd the option `-P pk cached_from` to the command to display cache source.\u001b[0m\n",
      "\u001b[34m\u001b[1mReport\u001b[0m: \u001b[22mLast time an entry changed state: 0s ago (at 04:12:25 on 2024-05-05)\u001b[0m\n",
      "\u001b[93m\u001b[1mWarning\u001b[0m: \u001b[22mThis profile does not have a broker and so it has no daemon.\u001b[0m\n"
     ]
    },
    {
     "name": "stdout",
     "output_type": "stream",
     "text": [
      "\u001b[22m\n",
      "Total results: 5\n",
      "\u001b[0m\n"
     ]
    },
    {
     "name": "stdout",
     "output_type": "stream",
     "text": [
      "\u001b[34m\u001b[1mReport\u001b[0m: \u001b[22m♻ Processes marked with check-mark were not run but taken from the cache.\u001b[0m\n"
     ]
    },
    {
     "name": "stdout",
     "output_type": "stream",
     "text": [
      "\u001b[34m\u001b[1mReport\u001b[0m: \u001b[22mAdd the option `-P pk cached_from` to the command to display cache source.\u001b[0m\n"
     ]
    },
    {
     "name": "stdout",
     "output_type": "stream",
     "text": [
      "\u001b[34m\u001b[1mReport\u001b[0m: \u001b[22mLast time an entry changed state: 0s ago (at 04:12:25 on 2024-05-05)\u001b[0m\n"
     ]
    },
    {
     "name": "stdout",
     "output_type": "stream",
     "text": [
      "\u001b[93m\u001b[1mWarning\u001b[0m: \u001b[22mThis profile does not have a broker and so it has no daemon.\u001b[0m\n"
     ]
    }
   ],
   "source": [
    "%verdi process list -a"
   ]
  },
  {
   "cell_type": "markdown",
   "id": "a2555150",
   "metadata": {},
   "source": [
    ":::{dropdown} Submitting to the daemon\n",
    "\n",
    "If instead we had submitted to the daemon (see {ref}`tutorial:daemon`), we would see the the process status of the workchain and its dependants:\n",
    "\n",
    "```console\n",
    "$ verdi process list -a\n",
    "  PK  Created    Process label             Process State    Process status\n",
    "----  ---------  ------------------------  ---------------  ------------------------------------\n",
    "   3  7m ago     multiply                  ⏹ Finished [0]\n",
    "   7  3m ago     ArithmeticAddCalculation  ⏹ Finished [0]\n",
    "  12  2m ago     ArithmeticAddCalculation  ⏹ Finished [0]\n",
    "  19  16s ago    MultiplyAddWorkChain      ⏵ Waiting        Waiting for child processes: 22\n",
    "  20  16s ago    multiply                  ⏹ Finished [0]\n",
    "  22  15s ago    ArithmeticAddCalculation  ⏵ Waiting        Waiting for transport task: retrieve\n",
    "\n",
    "Total results: 6\n",
    "\n",
    "Info: last time an entry changed state: 0s ago (at 09:08:59 on 2020-05-13)\n",
    "```\n",
    "\n",
    ":::\n",
    "\n",
    "We can see that the `MultiplyAddWorkChain` is currently waiting for its *child process*, the `ArithmeticAddCalculation`, to finish.\n",
    "Check the process list again for *all* processes (You should know how by now!).\n",
    "After about half a minute, all the processes should be in the `Finished` state.\n",
    "The `verdi process status` command prints a *hierarchical* overview of the processes called by the work chain:"
   ]
  },
  {
   "cell_type": "code",
   "execution_count": 29,
   "id": "96be20cf",
   "metadata": {},
   "outputs": [
    {
     "name": "stdout",
     "output_type": "stream",
     "text": [
      "\u001b[22mMultiplyAddWorkChain<14> Finished [0] [3:result]\n",
      "    ├── multiply<15> Finished [0]\n",
      "    └── ArithmeticAddCalculation<17> Finished [0]\u001b[0m\n"
     ]
    }
   ],
   "source": [
    "%verdi process status 14"
   ]
  },
  {
   "cell_type": "markdown",
   "id": "eedf6b04",
   "metadata": {},
   "source": [
    "The bracket `[3:result]` indicates the current step in the outline of the {py:class}`~aiida.workflows.arithmetic.multiply_add.MultiplyAddWorkChain` (step 3, with name `result`).\n",
    "The `process status` is particularly useful for debugging complex work chains, since it helps pinpoint where a problem occurred.\n",
    "\n",
    "We can now generate the full provenance graph for the `WorkChain` with:\n",
    "\n",
    "```console\n",
    "$ verdi node graph generate 14\n",
    "```"
   ]
  },
  {
   "cell_type": "code",
   "execution_count": 30,
   "id": "79cc6db4",
   "metadata": {
    "mystnb": {
     "image": {
      "align": "center",
      "width": "400px"
     }
    },
    "tags": [
     "hide-input"
    ]
   },
   "outputs": [
    {
     "data": {
      "image/svg+xml": [
       "<?xml version=\"1.0\" encoding=\"UTF-8\" standalone=\"no\"?>\n",
       "<!DOCTYPE svg PUBLIC \"-//W3C//DTD SVG 1.1//EN\"\n",
       " \"http://www.w3.org/Graphics/SVG/1.1/DTD/svg11.dtd\">\n",
       "<!-- Generated by graphviz version 2.43.0 (0)\n",
       " -->\n",
       "<!-- Title: %3 Pages: 1 -->\n",
       "<svg width=\"647pt\" height=\"658pt\"\n",
       " viewBox=\"0.00 0.00 646.58 658.22\" xmlns=\"http://www.w3.org/2000/svg\" xmlns:xlink=\"http://www.w3.org/1999/xlink\">\n",
       "<g id=\"graph0\" class=\"graph\" transform=\"scale(1 1) rotate(0) translate(4 654.22)\">\n",
       "<title>%3</title>\n",
       "<polygon fill=\"white\" stroke=\"transparent\" points=\"-4,4 -4,-654.22 642.58,-654.22 642.58,4 -4,4\"/>\n",
       "<!-- N14 -->\n",
       "<g id=\"node1\" class=\"node\">\n",
       "<title>N14</title>\n",
       "<polygon fill=\"#e38851\" stroke=\"red\" stroke-width=\"6\" points=\"470.08,-530.48 255.08,-530.48 255.08,-477.48 470.08,-477.48 470.08,-530.48\"/>\n",
       "<text text-anchor=\"middle\" x=\"362.58\" y=\"-515.28\" font-family=\"Times,serif\" font-size=\"14.00\">MultiplyAddWorkChain (14)</text>\n",
       "<text text-anchor=\"middle\" x=\"362.58\" y=\"-500.28\" font-family=\"Times,serif\" font-size=\"14.00\">State: finished</text>\n",
       "<text text-anchor=\"middle\" x=\"362.58\" y=\"-485.28\" font-family=\"Times,serif\" font-size=\"14.00\">Exit Code: 0</text>\n",
       "</g>\n",
       "<!-- N15 -->\n",
       "<g id=\"node6\" class=\"node\">\n",
       "<title>N15</title>\n",
       "<polygon fill=\"#de707f\" fill-opacity=\"0.466667\" stroke=\"black\" stroke-width=\"0\" points=\"320.58,-411.48 200.58,-411.48 200.58,-358.48 320.58,-358.48 320.58,-411.48\"/>\n",
       "<text text-anchor=\"middle\" x=\"260.58\" y=\"-396.28\" font-family=\"Times,serif\" font-size=\"14.00\">multiply (15)</text>\n",
       "<text text-anchor=\"middle\" x=\"260.58\" y=\"-381.28\" font-family=\"Times,serif\" font-size=\"14.00\">State: finished</text>\n",
       "<text text-anchor=\"middle\" x=\"260.58\" y=\"-366.28\" font-family=\"Times,serif\" font-size=\"14.00\">Exit Code: 0</text>\n",
       "</g>\n",
       "<!-- N14&#45;&gt;N15 -->\n",
       "<g id=\"edge10\" class=\"edge\">\n",
       "<title>N14&#45;&gt;N15</title>\n",
       "<path fill=\"none\" stroke=\"#000000\" stroke-dasharray=\"1,5\" d=\"M281.39,-477.26C274.49,-472.33 268.34,-466.46 263.58,-459.48 256.14,-448.58 254.22,-434.49 254.57,-421.58\"/>\n",
       "<polygon fill=\"#000000\" stroke=\"#000000\" points=\"258.07,-421.78 255.28,-411.55 251.09,-421.28 258.07,-421.78\"/>\n",
       "<text text-anchor=\"middle\" x=\"306.08\" y=\"-448.28\" font-family=\"Times,serif\" font-size=\"14.00\">CALL_CALC</text>\n",
       "<text text-anchor=\"middle\" x=\"306.08\" y=\"-433.28\" font-family=\"Times,serif\" font-size=\"14.00\">CALL</text>\n",
       "</g>\n",
       "<!-- N17 -->\n",
       "<g id=\"node8\" class=\"node\">\n",
       "<title>N17</title>\n",
       "<polygon fill=\"#de707f\" stroke=\"black\" stroke-width=\"0\" points=\"413.08,-172.74 180.08,-172.74 180.08,-119.74 413.08,-119.74 413.08,-172.74\"/>\n",
       "<text text-anchor=\"middle\" x=\"296.58\" y=\"-157.54\" font-family=\"Times,serif\" font-size=\"14.00\">ArithmeticAddCalculation (17)</text>\n",
       "<text text-anchor=\"middle\" x=\"296.58\" y=\"-142.54\" font-family=\"Times,serif\" font-size=\"14.00\">State: finished</text>\n",
       "<text text-anchor=\"middle\" x=\"296.58\" y=\"-127.54\" font-family=\"Times,serif\" font-size=\"14.00\">Exit Code: 0</text>\n",
       "</g>\n",
       "<!-- N14&#45;&gt;N17 -->\n",
       "<g id=\"edge6\" class=\"edge\">\n",
       "<title>N14&#45;&gt;N17</title>\n",
       "<path fill=\"none\" stroke=\"#000000\" stroke-dasharray=\"1,5\" d=\"M362.61,-477.34C362.52,-407.27 361.12,-216.09 348.58,-190.74 346.78,-187.11 344.53,-183.66 341.97,-180.42\"/>\n",
       "<polygon fill=\"#000000\" stroke=\"#000000\" points=\"344.38,-177.87 335.08,-172.8 339.19,-182.57 344.38,-177.87\"/>\n",
       "<text text-anchor=\"middle\" x=\"403.08\" y=\"-329.28\" font-family=\"Times,serif\" font-size=\"14.00\">CALL_CALC</text>\n",
       "<text text-anchor=\"middle\" x=\"403.08\" y=\"-314.28\" font-family=\"Times,serif\" font-size=\"14.00\">CALL</text>\n",
       "</g>\n",
       "<!-- N20 -->\n",
       "<g id=\"node11\" class=\"node\">\n",
       "<title>N20</title>\n",
       "<ellipse fill=\"#8cd499\" stroke=\"black\" stroke-width=\"0\" cx=\"459.58\" cy=\"-26.87\" rx=\"57.97\" ry=\"26.74\"/>\n",
       "<text text-anchor=\"middle\" x=\"459.58\" y=\"-30.67\" font-family=\"Times,serif\" font-size=\"14.00\">Int (20)</text>\n",
       "<text text-anchor=\"middle\" x=\"459.58\" y=\"-15.67\" font-family=\"Times,serif\" font-size=\"14.00\">value: 11</text>\n",
       "</g>\n",
       "<!-- N14&#45;&gt;N20 -->\n",
       "<g id=\"edge11\" class=\"edge\">\n",
       "<title>N14&#45;&gt;N20</title>\n",
       "<path fill=\"none\" stroke=\"#000000\" stroke-dasharray=\"5,2\" d=\"M403.54,-477.27C431.16,-456.44 462.58,-424.32 462.58,-385.98 462.58,-385.98 462.58,-385.98 462.58,-145.24 462.58,-118.02 461.76,-87.26 460.98,-64.06\"/>\n",
       "<polygon fill=\"#000000\" stroke=\"#000000\" points=\"464.48,-63.84 460.63,-53.97 457.48,-64.09 464.48,-63.84\"/>\n",
       "<text text-anchor=\"middle\" x=\"495.08\" y=\"-269.41\" font-family=\"Times,serif\" font-size=\"14.00\">RETURN</text>\n",
       "<text text-anchor=\"middle\" x=\"495.08\" y=\"-254.41\" font-family=\"Times,serif\" font-size=\"14.00\">result</text>\n",
       "</g>\n",
       "<!-- N5 -->\n",
       "<g id=\"node2\" class=\"node\">\n",
       "<title>N5</title>\n",
       "<ellipse fill=\"#8cd499\" stroke=\"black\" stroke-width=\"0\" cx=\"132.58\" cy=\"-623.35\" rx=\"98.08\" ry=\"26.74\"/>\n",
       "<text text-anchor=\"middle\" x=\"132.58\" y=\"-627.15\" font-family=\"Times,serif\" font-size=\"14.00\">InstalledCode (5)</text>\n",
       "<text text-anchor=\"middle\" x=\"132.58\" y=\"-612.15\" font-family=\"Times,serif\" font-size=\"14.00\">add@tutor</text>\n",
       "</g>\n",
       "<!-- N5&#45;&gt;N14 -->\n",
       "<g id=\"edge3\" class=\"edge\">\n",
       "<title>N5&#45;&gt;N14</title>\n",
       "<path fill=\"none\" stroke=\"#000000\" stroke-dasharray=\"5,2\" d=\"M146.49,-596.47C156.44,-580.35 171.29,-560.46 189.58,-548.48 206.39,-537.47 225.79,-529.24 245.39,-523.1\"/>\n",
       "<polygon fill=\"#000000\" stroke=\"#000000\" points=\"246.42,-526.45 255.02,-520.25 244.43,-519.74 246.42,-526.45\"/>\n",
       "<text text-anchor=\"middle\" x=\"240.08\" y=\"-567.28\" font-family=\"Times,serif\" font-size=\"14.00\">INPUT_WORK</text>\n",
       "<text text-anchor=\"middle\" x=\"240.08\" y=\"-552.28\" font-family=\"Times,serif\" font-size=\"14.00\">code</text>\n",
       "</g>\n",
       "<!-- N11 -->\n",
       "<g id=\"node3\" class=\"node\">\n",
       "<title>N11</title>\n",
       "<ellipse fill=\"#8cd499\" stroke=\"black\" stroke-width=\"0\" cx=\"300.58\" cy=\"-623.35\" rx=\"51.74\" ry=\"26.74\"/>\n",
       "<text text-anchor=\"middle\" x=\"300.58\" y=\"-627.15\" font-family=\"Times,serif\" font-size=\"14.00\">Int (11)</text>\n",
       "<text text-anchor=\"middle\" x=\"300.58\" y=\"-612.15\" font-family=\"Times,serif\" font-size=\"14.00\">value: 2</text>\n",
       "</g>\n",
       "<!-- N11&#45;&gt;N14 -->\n",
       "<g id=\"edge1\" class=\"edge\">\n",
       "<title>N11&#45;&gt;N14</title>\n",
       "<path fill=\"none\" stroke=\"#000000\" stroke-dasharray=\"5,2\" d=\"M295.37,-596.32C293.71,-581.49 293.96,-563.02 301.58,-548.48 303.58,-544.66 306.09,-541.09 308.94,-537.79\"/>\n",
       "<polygon fill=\"#000000\" stroke=\"#000000\" points=\"311.58,-540.1 316.13,-530.54 306.61,-535.17 311.58,-540.1\"/>\n",
       "<text text-anchor=\"middle\" x=\"352.08\" y=\"-567.28\" font-family=\"Times,serif\" font-size=\"14.00\">INPUT_WORK</text>\n",
       "<text text-anchor=\"middle\" x=\"352.08\" y=\"-552.28\" font-family=\"Times,serif\" font-size=\"14.00\">x</text>\n",
       "</g>\n",
       "<!-- N12 -->\n",
       "<g id=\"node4\" class=\"node\">\n",
       "<title>N12</title>\n",
       "<ellipse fill=\"#8cd499\" stroke=\"black\" stroke-width=\"0\" cx=\"424.58\" cy=\"-623.35\" rx=\"51.74\" ry=\"26.74\"/>\n",
       "<text text-anchor=\"middle\" x=\"424.58\" y=\"-627.15\" font-family=\"Times,serif\" font-size=\"14.00\">Int (12)</text>\n",
       "<text text-anchor=\"middle\" x=\"424.58\" y=\"-612.15\" font-family=\"Times,serif\" font-size=\"14.00\">value: 3</text>\n",
       "</g>\n",
       "<!-- N12&#45;&gt;N14 -->\n",
       "<g id=\"edge4\" class=\"edge\">\n",
       "<title>N12&#45;&gt;N14</title>\n",
       "<path fill=\"none\" stroke=\"#000000\" stroke-dasharray=\"5,2\" d=\"M419.92,-596.59C416.54,-581.84 411.04,-563.37 402.58,-548.48 400.64,-545.07 398.39,-541.7 395.96,-538.44\"/>\n",
       "<polygon fill=\"#000000\" stroke=\"#000000\" points=\"398.64,-536.19 389.63,-530.61 393.19,-540.59 398.64,-536.19\"/>\n",
       "<text text-anchor=\"middle\" x=\"465.08\" y=\"-567.28\" font-family=\"Times,serif\" font-size=\"14.00\">INPUT_WORK</text>\n",
       "<text text-anchor=\"middle\" x=\"465.08\" y=\"-552.28\" font-family=\"Times,serif\" font-size=\"14.00\">y</text>\n",
       "</g>\n",
       "<!-- N13 -->\n",
       "<g id=\"node5\" class=\"node\">\n",
       "<title>N13</title>\n",
       "<ellipse fill=\"#8cd499\" stroke=\"black\" stroke-width=\"0\" cx=\"548.58\" cy=\"-623.35\" rx=\"51.74\" ry=\"26.74\"/>\n",
       "<text text-anchor=\"middle\" x=\"548.58\" y=\"-627.15\" font-family=\"Times,serif\" font-size=\"14.00\">Int (13)</text>\n",
       "<text text-anchor=\"middle\" x=\"548.58\" y=\"-612.15\" font-family=\"Times,serif\" font-size=\"14.00\">value: 5</text>\n",
       "</g>\n",
       "<!-- N13&#45;&gt;N14 -->\n",
       "<g id=\"edge2\" class=\"edge\">\n",
       "<title>N13&#45;&gt;N14</title>\n",
       "<path fill=\"none\" stroke=\"#000000\" stroke-dasharray=\"5,2\" d=\"M544.44,-596.43C540.6,-580.5 533.29,-560.84 519.58,-548.48 508.12,-538.15 494.41,-530.25 479.94,-524.21\"/>\n",
       "<polygon fill=\"#000000\" stroke=\"#000000\" points=\"480.92,-520.84 470.33,-520.5 478.4,-527.37 480.92,-520.84\"/>\n",
       "<text text-anchor=\"middle\" x=\"588.08\" y=\"-567.28\" font-family=\"Times,serif\" font-size=\"14.00\">INPUT_WORK</text>\n",
       "<text text-anchor=\"middle\" x=\"588.08\" y=\"-552.28\" font-family=\"Times,serif\" font-size=\"14.00\">z</text>\n",
       "</g>\n",
       "<!-- N16 -->\n",
       "<g id=\"node7\" class=\"node\">\n",
       "<title>N16</title>\n",
       "<ellipse fill=\"#8cd499\" stroke=\"black\" stroke-width=\"0\" cx=\"254.58\" cy=\"-265.61\" rx=\"51.74\" ry=\"26.74\"/>\n",
       "<text text-anchor=\"middle\" x=\"254.58\" y=\"-269.41\" font-family=\"Times,serif\" font-size=\"14.00\">Int (16)</text>\n",
       "<text text-anchor=\"middle\" x=\"254.58\" y=\"-254.41\" font-family=\"Times,serif\" font-size=\"14.00\">value: 6</text>\n",
       "</g>\n",
       "<!-- N15&#45;&gt;N16 -->\n",
       "<g id=\"edge7\" class=\"edge\">\n",
       "<title>N15&#45;&gt;N16</title>\n",
       "<path fill=\"none\" stroke=\"#000000\" d=\"M259.26,-358.22C258.43,-341.98 257.35,-320.75 256.43,-302.83\"/>\n",
       "<polygon fill=\"#000000\" stroke=\"#000000\" points=\"259.92,-302.52 255.92,-292.71 252.93,-302.88 259.92,-302.52\"/>\n",
       "<text text-anchor=\"middle\" x=\"288.08\" y=\"-329.28\" font-family=\"Times,serif\" font-size=\"14.00\">CREATE</text>\n",
       "<text text-anchor=\"middle\" x=\"288.08\" y=\"-314.28\" font-family=\"Times,serif\" font-size=\"14.00\">result</text>\n",
       "</g>\n",
       "<!-- N16&#45;&gt;N17 -->\n",
       "<g id=\"edge9\" class=\"edge\">\n",
       "<title>N16&#45;&gt;N17</title>\n",
       "<path fill=\"none\" stroke=\"#000000\" d=\"M249.93,-238.75C248.43,-224.14 248.48,-205.84 254.58,-190.74 255.92,-187.43 257.64,-184.23 259.63,-181.17\"/>\n",
       "<polygon fill=\"#000000\" stroke=\"#000000\" points=\"262.6,-183.04 265.8,-172.94 257,-178.84 262.6,-183.04\"/>\n",
       "<text text-anchor=\"middle\" x=\"301.58\" y=\"-209.54\" font-family=\"Times,serif\" font-size=\"14.00\">INPUT_CALC</text>\n",
       "<text text-anchor=\"middle\" x=\"301.58\" y=\"-194.54\" font-family=\"Times,serif\" font-size=\"14.00\">x</text>\n",
       "</g>\n",
       "<!-- N18 -->\n",
       "<g id=\"node9\" class=\"node\">\n",
       "<title>N18</title>\n",
       "<ellipse fill=\"#8cd499\" stroke=\"black\" stroke-width=\"0\" cx=\"97.58\" cy=\"-26.87\" rx=\"97.66\" ry=\"26.74\"/>\n",
       "<text text-anchor=\"middle\" x=\"97.58\" y=\"-30.67\" font-family=\"Times,serif\" font-size=\"14.00\">RemoteData (18)</text>\n",
       "<text text-anchor=\"middle\" x=\"97.58\" y=\"-15.67\" font-family=\"Times,serif\" font-size=\"14.00\">@tutor</text>\n",
       "</g>\n",
       "<!-- N17&#45;&gt;N18 -->\n",
       "<g id=\"edge8\" class=\"edge\">\n",
       "<title>N17&#45;&gt;N18</title>\n",
       "<path fill=\"none\" stroke=\"#000000\" d=\"M228.19,-119.69C216.05,-114.3 203.74,-108.25 192.58,-101.74 171.96,-89.7 150.82,-73.68 133.72,-59.65\"/>\n",
       "<polygon fill=\"#000000\" stroke=\"#000000\" points=\"135.6,-56.65 125.68,-52.94 131.12,-62.03 135.6,-56.65\"/>\n",
       "<text text-anchor=\"middle\" x=\"242.58\" y=\"-90.54\" font-family=\"Times,serif\" font-size=\"14.00\">CREATE</text>\n",
       "<text text-anchor=\"middle\" x=\"242.58\" y=\"-75.54\" font-family=\"Times,serif\" font-size=\"14.00\">remote_folder</text>\n",
       "</g>\n",
       "<!-- N19 -->\n",
       "<g id=\"node10\" class=\"node\">\n",
       "<title>N19</title>\n",
       "<ellipse fill=\"#8cd499\" stroke=\"black\" stroke-width=\"0\" cx=\"296.58\" cy=\"-26.87\" rx=\"83.69\" ry=\"18\"/>\n",
       "<text text-anchor=\"middle\" x=\"296.58\" y=\"-23.17\" font-family=\"Times,serif\" font-size=\"14.00\">FolderData (19)</text>\n",
       "</g>\n",
       "<!-- N17&#45;&gt;N19 -->\n",
       "<g id=\"edge5\" class=\"edge\">\n",
       "<title>N17&#45;&gt;N19</title>\n",
       "<path fill=\"none\" stroke=\"#000000\" d=\"M296.58,-119.48C296.58,-100.47 296.58,-74.63 296.58,-55.24\"/>\n",
       "<polygon fill=\"#000000\" stroke=\"#000000\" points=\"300.08,-55.22 296.58,-45.22 293.08,-55.22 300.08,-55.22\"/>\n",
       "<text text-anchor=\"middle\" x=\"330.08\" y=\"-90.54\" font-family=\"Times,serif\" font-size=\"14.00\">CREATE</text>\n",
       "<text text-anchor=\"middle\" x=\"330.08\" y=\"-75.54\" font-family=\"Times,serif\" font-size=\"14.00\">retrieved</text>\n",
       "</g>\n",
       "<!-- N17&#45;&gt;N20 -->\n",
       "<g id=\"edge12\" class=\"edge\">\n",
       "<title>N17&#45;&gt;N20</title>\n",
       "<path fill=\"none\" stroke=\"#000000\" d=\"M341.74,-119.51C349.71,-114.1 357.67,-108.09 364.58,-101.74 376.95,-90.38 375.08,-82.97 387.58,-71.74 395.34,-64.77 404.35,-58.28 413.32,-52.55\"/>\n",
       "<polygon fill=\"#000000\" stroke=\"#000000\" points=\"415.19,-55.51 421.87,-47.29 411.52,-49.55 415.19,-55.51\"/>\n",
       "<text text-anchor=\"middle\" x=\"418.08\" y=\"-90.54\" font-family=\"Times,serif\" font-size=\"14.00\">CREATE</text>\n",
       "<text text-anchor=\"middle\" x=\"418.08\" y=\"-75.54\" font-family=\"Times,serif\" font-size=\"14.00\">sum</text>\n",
       "</g>\n",
       "</g>\n",
       "</svg>\n"
      ],
      "text/plain": [
       "<graphviz.graphs.Digraph at 0x7f277b63cc10>"
      ]
     },
     "execution_count": 30,
     "metadata": {},
     "output_type": "execute_result"
    }
   ],
   "source": [
    "from aiida.tools.visualization import Graph\n",
    "graph = Graph()\n",
    "calc_node = orm.load_node(14)\n",
    "graph.recurse_ancestors(calc_node, annotate_links=\"both\")\n",
    "graph.recurse_descendants(calc_node, annotate_links=\"both\")\n",
    "graph.graphviz"
   ]
  },
  {
   "cell_type": "markdown",
   "id": "b327dfd4",
   "metadata": {},
   "source": [
    "Look familiar?\n",
    "The provenance graph should be similar to the one we showed at the start of this tutorial ({numref}`fig_intro_workchain_graph`).\n",
    "\n",
    "(tutorial:daemon)=\n",
    "\n",
    "## Submitting to the daemon\n",
    "\n",
    "When we used the `run` command in the previous sections, the IPython shell was blocked while it was waiting for the `CalcJob` to finish.\n",
    "This is not a problem when we're simply adding two number together, but if we want to run multiple calculations that take hours or days, this is no longer practical.\n",
    "Instead, we are going to *submit* the `CalcJob` to the AiiDA *daemon*.\n",
    "The daemon is a program that runs in the background and manages submitted calculations until they are *terminated*.\n",
    "Let's first check the status of the daemon using the `verdi` CLI:\n",
    "\n",
    "```console\n",
    "$ verdi daemon status\n",
    "```\n",
    "\n",
    "If the daemon is running, the output will be something like the following:\n",
    "\n",
    "```bash\n",
    "Profile: tutorial\n",
    "Daemon is running as PID 96447 since 2020-05-22 18:04:39\n",
    "Active workers [1]:\n",
    "  PID    MEM %    CPU %  started\n",
    "-----  -------  -------  -------------------\n",
    "96448    0.507        0  2020-05-22 18:04:39\n",
    "Use verdi daemon [incr | decr] [num] to increase / decrease the amount of workers\n",
    "```\n",
    "\n",
    "In this case, let's stop it for now:\n",
    "\n",
    "```console\n",
    "$ verdi daemon stop\n",
    "```\n",
    "\n",
    "Next, let's *submit* the `CalcJob` we ran previously.\n",
    "Start the `verdi shell` and execute the Python code snippet below.\n",
    "This follows all the steps we did previously, but now uses the `submit` function instead of `run`:\n",
    "\n",
    "```ipython\n",
    "In [1]: from aiida.engine import submit\n",
    "   ...:\n",
    "   ...: code = load_code(label='add')\n",
    "   ...: builder = code.get_builder()\n",
    "   ...: builder.x = load_node(pk=4)\n",
    "   ...: builder.y = Int(5)\n",
    "   ...:\n",
    "   ...: submit(builder)\n",
    "```\n",
    "\n",
    "When using `submit` the calculation job is not run in the local interpreter but is sent off to the daemon and you get back control instantly.\n",
    "Instead of the *result* of the calculation, it returns the node of the `CalcJob` that was just submitted:\n",
    "\n",
    "```ipython\n",
    "Out[1]: <CalcJobNode: uuid: e221cf69-5027-4bb4-a3c9-e649b435393b (pk: 12) (aiida.calculations:core.arithmetic.add)>\n",
    "```\n",
    "\n",
    "Let's exit the IPython shell and have a look at the process list:\n",
    "\n",
    "```console\n",
    "$ verdi process list\n",
    "```\n",
    "\n",
    "You should see the `CalcJob` you have just submitted, with the state `Created`:\n",
    "\n",
    "```bash\n",
    "  PK  Created    Process label             Process State    Process status\n",
    "----  ---------  ------------------------  ---------------  ----------------\n",
    "  12  13s ago    ArithmeticAddCalculation  ⏹ Created\n",
    "\n",
    "Total results: 1\n",
    "\n",
    "Info: last time an entry changed state: 13s ago (at 09:06:57 on 2020-05-13)\n",
    "```\n",
    "\n",
    "The `CalcJob` process is now waiting to be picked up by a daemon runner, but the daemon is currently disabled.\n",
    "Let's start it up (again):\n",
    "\n",
    "```console\n",
    "$ verdi daemon start\n",
    "```\n",
    "\n",
    "Now you can either use `verdi process list` to follow the execution of the `CalcJob`, or `watch` its progress:\n",
    "\n",
    "```console\n",
    "$ verdi process watch 12\n",
    "```\n",
    "\n",
    "Let's wait for the `CalcJob` to complete and then use `verdi process list -a` to see all processes we have run so far:\n",
    "\n",
    "```bash\n",
    "  PK  Created    Process label             Process State    Process status\n",
    "----  ---------  ------------------------  ---------------  ----------------\n",
    "   3  6m ago     multiply                  ⏹ Finished [0]\n",
    "   7  2m ago     ArithmeticAddCalculation  ⏹ Finished [0]\n",
    "  12  1m ago     ArithmeticAddCalculation  ⏹ Finished [0]\n",
    "\n",
    "Total results: 3\n",
    "\n",
    "Info: last time an entry changed state: 14s ago (at 09:07:45 on 2020-05-13)\n",
    "```\n",
    "\n",
    "(tutorial:next-steps)=\n",
    "\n",
    "# Next Steps\n",
    "\n",
    "Congratulations! You have completed the first step to becoming an AiiDA expert.\n",
    "\n",
    "We have compiled how-to guides that are especially relevant for the following use cases:\n",
    "\n",
    "::::{div} dropdown-group\n",
    "\n",
    ":::{dropdown} Run pure Python lightweight computations\n",
    "\n",
    "Designing a workflow\n",
    ": After reading the {ref}`Basic Tutorial <tutorial:basic>`, you may want to learn about how to encode the logic of a typical scientific workflow in the {ref}`writing workflows how-to <how-to:write-workflows>`.\n",
    "\n",
    "Reusable data types\n",
    ": If you have a certain input or output data type, which you use often, then you may wish to turn it into its own {ref}`data plugin <topics:data_types:plugin>`.\n",
    "\n",
    "Finding and querying for your data\n",
    ": Once you have run multiple computations, the {ref}`find and query data how-to <how-to:query>` can show you how to efficiently explore your data. The data lineage can also be visualised as a {ref}`provenance graph <how-to:data:visualise-provenance>`.\n",
    "\n",
    "Sharing your data\n",
    ": You can export all or part of your data to file with the {ref}`export/import functionality<how-to:share:archives>` or you can even serve your data over HTTP(S) using the {ref}`AiiDA REST API <how-to:share:serve>`.\n",
    "\n",
    "Sharing your workflows\n",
    ": Once you have a working computation workflow, you may also wish to {ref}`package it into a python module <how-to:plugins-develop>` for others to use.\n",
    "\n",
    ":::\n",
    ":::{dropdown} Run compute-intensive codes\n",
    "\n",
    "Working with external codes\n",
    ": Existing calculation plugins, for interfacing with external codes, are available on the [aiida plugin registry](https://aiidateam.github.io/aiida-registry/).\n",
    "  If none meet your needs, then the {ref}`external codes how-to <how-to:plugin-codes>` can show you how to create your own calculation plugin.\n",
    "\n",
    "Tuning performance\n",
    ": To optimise the performance of AiiDA for running many concurrent computations see the {ref}`tuning performance how-to <how-to:installation:performance>`.\n",
    "\n",
    "Saving computational resources\n",
    ": AiiDA can cache and reuse the outputs of identical computations, as described in the {ref}`caching how-to <how-to:run-codes:caching>`.\n",
    "\n",
    ":::\n",
    ":::{dropdown} Run computations on High Performance Computers\n",
    "\n",
    "Connecting to supercomputers\n",
    ": To setup up a computer which can communicate with a high-performance computer over SSH, see the {ref}`how-to for running external codes <how-to:run-codes>`, or add a {ref}`custom transport <topics:transport:develop_plugin>`.\n",
    "  AiiDA has pre-written scheduler plugins to work with LSF, PBSPro, SGE, Slurm and Torque.\n",
    "\n",
    "Working with external codes\n",
    ": Existing calculation plugins, for interfacing with external codes, are available on the [aiida plugin registry](https://aiidateam.github.io/aiida-registry/).\n",
    "  If none meet your needs, then the {ref}`external codes how-to <how-to:plugin-codes>` can show you how to create your own calculation plugin.\n",
    "\n",
    "Exploring your data\n",
    ": Once you have run multiple computations, the {ref}`find and query data how-to <how-to:query>` can show you how to efficiently explore your data. The data lineage can also be visualised as a {ref}`provenance graph <how-to:data:visualise-provenance>`.\n",
    "\n",
    "Sharing your data\n",
    ": You can export all or part of your data to file with the {ref}`export/import functionality<how-to:share:archives>` or you can even serve your data over HTTP(S) using the {ref}`AiiDA REST API <how-to:share:serve>`.\n",
    "\n",
    "Sharing your calculation plugin\n",
    ": Once you have a working plugin, you may also wish to {ref}`package it into a python module <how-to:plugins-develop>` for others to use.\n",
    "\n",
    ":::\n",
    "::::\n",
    "\n",
    "% You can do more with AiiDA than basic arithmetic! Check out some cool real-world examples of AiiDA in action on the demo page <LINK HERE>\n",
    "\n",
    "```{todo}\n",
    "Add to \"Connecting to supercomputers\": , or you can add a {ref}`custom scheduler <topics:schedulers:develop_plugin>`.\n",
    "```"
   ]
  }
 ],
 "metadata": {
  "execution": {
   "timeout": 60
  },
  "jupytext": {
   "text_representation": {
    "extension": ".md",
    "format_name": "myst",
    "format_version": 0.13,
    "jupytext_version": "1.11.4"
   }
  },
  "kernelspec": {
   "display_name": "Python 3",
   "language": "python",
   "name": "python3"
  },
  "language_info": {
   "codemirror_mode": {
    "name": "ipython",
    "version": 3
   },
   "file_extension": ".py",
   "mimetype": "text/x-python",
   "name": "python",
   "nbconvert_exporter": "python",
   "pygments_lexer": "ipython3",
   "version": "3.10.13"
  },
  "source_map": [
   14,
   41,
   65,
   102,
   106,
   110,
   112,
   123,
   125,
   141,
   143,
   167,
   173,
   178,
   180,
   185,
   187,
   191,
   193,
   199,
   201,
   208,
   210,
   216,
   218,
   234,
   251,
   302,
   308,
   314,
   316,
   323,
   325,
   338,
   341,
   346,
   349,
   354,
   358,
   377,
   379,
   385,
   387,
   398,
   416,
   420,
   422,
   444,
   500,
   511,
   514,
   521,
   529,
   533,
   536,
   540,
   542,
   571,
   573,
   584,
   602
  ]
 },
 "nbformat": 4,
 "nbformat_minor": 5
}